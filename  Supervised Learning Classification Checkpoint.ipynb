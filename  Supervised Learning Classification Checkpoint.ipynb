{
 "cells": [
  {
   "cell_type": "markdown",
   "id": "2d2c08a6-7ea8-4408-a66c-792a0621a1ae",
   "metadata": {},
   "source": [
    "What You're Aiming For\n",
    "\n",
    "In this checkpoint, we are going to work on the 'Systemic Crisis, Banking Crisis, inflation Crisis In Africa' dataset that was provided by Kaggle.\n",
    "\n",
    "Dataset description : This dataset focuses on the Banking, Debt, Financial, Inflation and Systemic Crises that occurred, from 1860 to 2014, in 13 African countries, including: Algeria, Angola, Central African Republic, Ivory Coast, Egypt, Kenya, Mauritius, Morocco, Nigeria, South Africa, Tunisia, Zambia and Zimbabwe. The ML model objective is to predict the likelihood of a Systemic crisis emergence given a set of indicators like the annual inflation rates.\n",
    "\n",
    " ➡️ Dataset link\n",
    "\n",
    "https://i.imgur.com/3XzFz3x.jpg\n",
    "\n",
    "\n",
    "Instructions\n",
    "\n",
    "Import you data and perform basic data exploration phase\n",
    "Display general information about the dataset\n",
    "Create a pandas profiling reports to gain insights into the dataset\n",
    "Handle Missing and corrupted values\n",
    "Remove duplicates, if they exist\n",
    "Handle outliers, if they exist\n",
    "Encode categorical features\n",
    "Select your target variable and the features\n",
    "Split your dataset to training and test sets\n",
    "Based on your data exploration phase select a ML classification algorithm and train it on the training set\n",
    "Assess your model performance on the test set using relevant evaluation metrics\n",
    "Discuss with your cohort alternative ways to improve your model performance"
   ]
  },
  {
   "cell_type": "code",
   "execution_count": 30,
   "id": "93a73204-861a-4dbb-b772-ce08b4105bc7",
   "metadata": {},
   "outputs": [],
   "source": [
    "# Import libraries\n",
    "import pandas as pd\n",
    "import numpy as np\n",
    "import matplotlib.pyplot as plt\n",
    "import seaborn as sns\n",
    "from ydata_profiling import ProfileReport\n",
    "# Import necessary libraries for ML models\n",
    "from sklearn.model_selection import train_test_split, GridSearchCV, cross_val_score\n",
    "from sklearn.linear_model import LogisticRegression\n",
    "from sklearn.neighbors import KNeighborsClassifier\n",
    "from sklearn.tree import DecisionTreeClassifier\n",
    "from sklearn.ensemble import RandomForestClassifier, GradientBoostingClassifier\n",
    "from sklearn.svm import SVC\n",
    "from sklearn.naive_bayes import GaussianNB\n",
    "from sklearn.metrics import accuracy_score, classification_report, f1_score, confusion_matrix, roc_auc_score"
   ]
  },
  {
   "cell_type": "code",
   "execution_count": 31,
   "id": "6f61fcba-2b7b-4a33-9949-11c1489ea832",
   "metadata": {},
   "outputs": [],
   "source": [
    "# Load dataset\n",
    "df = pd.read_csv('African_crises_dataset.csv')"
   ]
  },
  {
   "cell_type": "code",
   "execution_count": 32,
   "id": "5fab96cc-3940-4611-9518-8f043ff18f81",
   "metadata": {},
   "outputs": [
    {
     "name": "stdout",
     "output_type": "stream",
     "text": [
      "Basic Info:\n",
      "<class 'pandas.core.frame.DataFrame'>\n",
      "RangeIndex: 1059 entries, 0 to 1058\n",
      "Data columns (total 14 columns):\n",
      " #   Column                           Non-Null Count  Dtype  \n",
      "---  ------                           --------------  -----  \n",
      " 0   country_number                   1059 non-null   int64  \n",
      " 1   country_code                     1059 non-null   object \n",
      " 2   country                          1059 non-null   object \n",
      " 3   year                             1059 non-null   int64  \n",
      " 4   systemic_crisis                  1059 non-null   int64  \n",
      " 5   exch_usd                         1059 non-null   float64\n",
      " 6   domestic_debt_in_default         1059 non-null   int64  \n",
      " 7   sovereign_external_debt_default  1059 non-null   int64  \n",
      " 8   gdp_weighted_default             1059 non-null   float64\n",
      " 9   inflation_annual_cpi             1059 non-null   float64\n",
      " 10  independence                     1059 non-null   int64  \n",
      " 11  currency_crises                  1059 non-null   int64  \n",
      " 12  inflation_crises                 1059 non-null   int64  \n",
      " 13  banking_crisis                   1059 non-null   object \n",
      "dtypes: float64(3), int64(8), object(3)\n",
      "memory usage: 116.0+ KB\n",
      "\n",
      "Basic Statistics:\n",
      "       country_number         year  systemic_crisis     exch_usd  \\\n",
      "count     1059.000000  1059.000000      1059.000000  1059.000000   \n",
      "mean        35.613787  1967.767705         0.077432    43.140831   \n",
      "std         23.692402    33.530632         0.267401   111.475380   \n",
      "min          1.000000  1860.000000         0.000000     0.000000   \n",
      "25%         15.000000  1951.000000         0.000000     0.195350   \n",
      "50%         38.000000  1973.000000         0.000000     0.868400   \n",
      "75%         56.000000  1994.000000         0.000000     8.462750   \n",
      "max         70.000000  2014.000000         1.000000   744.306139   \n",
      "\n",
      "       domestic_debt_in_default  sovereign_external_debt_default  \\\n",
      "count               1059.000000                      1059.000000   \n",
      "mean                   0.039660                         0.152975   \n",
      "std                    0.195251                         0.360133   \n",
      "min                    0.000000                         0.000000   \n",
      "25%                    0.000000                         0.000000   \n",
      "50%                    0.000000                         0.000000   \n",
      "75%                    0.000000                         0.000000   \n",
      "max                    1.000000                         1.000000   \n",
      "\n",
      "       gdp_weighted_default  inflation_annual_cpi  independence  \\\n",
      "count           1059.000000          1.059000e+03   1059.000000   \n",
      "mean               0.006402          2.084889e+04      0.776204   \n",
      "std                0.043572          6.757274e+05      0.416984   \n",
      "min                0.000000         -2.850214e+01      0.000000   \n",
      "25%                0.000000          2.086162e+00      1.000000   \n",
      "50%                0.000000          5.762330e+00      1.000000   \n",
      "75%                0.000000          1.164405e+01      1.000000   \n",
      "max                0.400000          2.198970e+07      1.000000   \n",
      "\n",
      "       currency_crises  inflation_crises  \n",
      "count      1059.000000       1059.000000  \n",
      "mean          0.132200          0.129367  \n",
      "std           0.349847          0.335765  \n",
      "min           0.000000          0.000000  \n",
      "25%           0.000000          0.000000  \n",
      "50%           0.000000          0.000000  \n",
      "75%           0.000000          0.000000  \n",
      "max           2.000000          1.000000  \n",
      "\n",
      "First 5 rows of the dataset:\n",
      "   country_number country_code  country  year  systemic_crisis  exch_usd  \\\n",
      "0               1          DZA  Algeria  1870                1  0.052264   \n",
      "1               1          DZA  Algeria  1871                0  0.052798   \n",
      "2               1          DZA  Algeria  1872                0  0.052274   \n",
      "3               1          DZA  Algeria  1873                0  0.051680   \n",
      "4               1          DZA  Algeria  1874                0  0.051308   \n",
      "\n",
      "   domestic_debt_in_default  sovereign_external_debt_default  \\\n",
      "0                         0                                0   \n",
      "1                         0                                0   \n",
      "2                         0                                0   \n",
      "3                         0                                0   \n",
      "4                         0                                0   \n",
      "\n",
      "   gdp_weighted_default  inflation_annual_cpi  independence  currency_crises  \\\n",
      "0                   0.0              3.441456             0                0   \n",
      "1                   0.0             14.149140             0                0   \n",
      "2                   0.0             -3.718593             0                0   \n",
      "3                   0.0             11.203897             0                0   \n",
      "4                   0.0             -3.848561             0                0   \n",
      "\n",
      "   inflation_crises banking_crisis  \n",
      "0                 0         crisis  \n",
      "1                 0      no_crisis  \n",
      "2                 0      no_crisis  \n",
      "3                 0      no_crisis  \n",
      "4                 0      no_crisis  \n"
     ]
    }
   ],
   "source": [
    "# Display basic information about the dataset\n",
    "print(\"Basic Info:\")\n",
    "df.info()  # Gives overview of column types, missing values\n",
    "print(\"\\nBasic Statistics:\")\n",
    "print(df.describe())  # Provides basic statistics (mean, std, etc.)\n",
    "\n",
    "# Display first few rows\n",
    "print(\"\\nFirst 5 rows of the dataset:\")\n",
    "print(df.head())"
   ]
  },
  {
   "cell_type": "code",
   "execution_count": 33,
   "id": "f3dcec1f-c765-4f36-a38c-974595ee54ed",
   "metadata": {},
   "outputs": [
    {
     "data": {
      "application/vnd.jupyter.widget-view+json": {
       "model_id": "77f7aef60854435ca9c6720d3229a075",
       "version_major": 2,
       "version_minor": 0
      },
      "text/plain": [
       "Summarize dataset:   0%|          | 0/5 [00:00<?, ?it/s]"
      ]
     },
     "metadata": {},
     "output_type": "display_data"
    },
    {
     "data": {
      "application/vnd.jupyter.widget-view+json": {
       "model_id": "b20c3e8d96384c20a873e6ea5814a7ce",
       "version_major": 2,
       "version_minor": 0
      },
      "text/plain": [
       "Generate report structure:   0%|          | 0/1 [00:00<?, ?it/s]"
      ]
     },
     "metadata": {},
     "output_type": "display_data"
    },
    {
     "data": {
      "application/vnd.jupyter.widget-view+json": {
       "model_id": "db55cfac01de47d4b710d91831e99e57",
       "version_major": 2,
       "version_minor": 0
      },
      "text/plain": [
       "Render HTML:   0%|          | 0/1 [00:00<?, ?it/s]"
      ]
     },
     "metadata": {},
     "output_type": "display_data"
    },
    {
     "data": {
      "application/vnd.jupyter.widget-view+json": {
       "model_id": "bbfb7ebb8b96493e8fc0488a122496d7",
       "version_major": 2,
       "version_minor": 0
      },
      "text/plain": [
       "Export report to file:   0%|          | 0/1 [00:00<?, ?it/s]"
      ]
     },
     "metadata": {},
     "output_type": "display_data"
    }
   ],
   "source": [
    "# Create a pandas profiling report to gain insights into the dataset\n",
    "profile = ProfileReport(df, title=\"Profiling Report\", explorative=True)\n",
    "profile.to_file(\"systemic_crisis_dataset_report.html\")  # Saves the report"
   ]
  },
  {
   "cell_type": "code",
   "execution_count": 34,
   "id": "c13e6254-558a-4905-a6d5-0c79ed751a2d",
   "metadata": {},
   "outputs": [
    {
     "name": "stdout",
     "output_type": "stream",
     "text": [
      "\n",
      "Missing Values:\n",
      "country_number                     0\n",
      "country_code                       0\n",
      "country                            0\n",
      "year                               0\n",
      "systemic_crisis                    0\n",
      "exch_usd                           0\n",
      "domestic_debt_in_default           0\n",
      "sovereign_external_debt_default    0\n",
      "gdp_weighted_default               0\n",
      "inflation_annual_cpi               0\n",
      "independence                       0\n",
      "currency_crises                    0\n",
      "inflation_crises                   0\n",
      "banking_crisis                     0\n",
      "dtype: int64\n"
     ]
    }
   ],
   "source": [
    "# Check for missing values\n",
    "print(\"\\nMissing Values:\")\n",
    "print(df.isnull().sum())  # Identifies missing values per column"
   ]
  },
  {
   "cell_type": "code",
   "execution_count": 35,
   "id": "3eb2fe15-cb2b-4d1e-b9df-3729e2557371",
   "metadata": {},
   "outputs": [
    {
     "name": "stdout",
     "output_type": "stream",
     "text": [
      "\n",
      "Number of duplicate rows: 0\n"
     ]
    }
   ],
   "source": [
    "# Checking for duplicate rows \n",
    "duplicates = df.duplicated().sum()\n",
    "print(f\"\\nNumber of duplicate rows: {duplicates}\")"
   ]
  },
  {
   "cell_type": "code",
   "execution_count": 36,
   "id": "cf48296e-c414-4854-af82-9ce958855487",
   "metadata": {},
   "outputs": [
    {
     "name": "stderr",
     "output_type": "stream",
     "text": [
      "C:\\Users\\HARDEY\\AppData\\Local\\Temp\\ipykernel_13940\\2363621710.py:5: UserWarning: FigureCanvasAgg is non-interactive, and thus cannot be shown\n",
      "  plt.show()\n"
     ]
    }
   ],
   "source": [
    "# Visualizing the potential outliers in inflation_annual_cpi\n",
    "plt.figure(figsize=(10, 6))\n",
    "sns.boxplot(x=df['inflation_annual_cpi'])\n",
    "plt.title(\"Boxplot of Inflation Annual CPI\")\n",
    "plt.show()"
   ]
  },
  {
   "cell_type": "code",
   "execution_count": 37,
   "id": "6c7685bd-100c-49c3-bd71-32b36a8e42f5",
   "metadata": {},
   "outputs": [
    {
     "name": "stdout",
     "output_type": "stream",
     "text": [
      "\n",
      "Quantiles of inflation_annual_cpi:\n",
      "0.25      2.086162\n",
      "0.50      5.762330\n",
      "0.75     11.644048\n",
      "0.90     23.975404\n",
      "0.95     46.015246\n",
      "0.99    269.604580\n",
      "Name: inflation_annual_cpi, dtype: float64\n"
     ]
    }
   ],
   "source": [
    "\n",
    "# Checking the quantiles to identify extreme outliers\n",
    "quantiles = df['inflation_annual_cpi'].quantile([0.25, 0.5, 0.75, 0.90, 0.95, 0.99])\n",
    "print(f\"\\nQuantiles of inflation_annual_cpi:\\n{quantiles}\")\n",
    "\n",
    "# Capping extreme outliers at the 99th percentile (Winsorization)\n",
    "upper_bound = df['inflation_annual_cpi'].quantile(0.99)\n",
    "df['inflation_annual_cpi'] = np.where(df['inflation_annual_cpi'] > upper_bound, upper_bound, df['inflation_annual_cpi'])"
   ]
  },
  {
   "cell_type": "code",
   "execution_count": 38,
   "id": "c7d965ae-309e-43f7-b912-ed5da1f08676",
   "metadata": {},
   "outputs": [],
   "source": [
    "# Encode categorical features using one-hot encoding for 'country' and 'country_code'\n",
    "df_encoded = pd.get_dummies(df, columns=['country', 'country_code'], drop_first=True)\n",
    "\n",
    "# Encode 'banking_crisis' to 0/1 where 'crisis' is 1 and 'no_crisis' is 0\n",
    "df_encoded['banking_crisis'] = df_encoded['banking_crisis'].map({'crisis': 1, 'no_crisis': 0})"
   ]
  },
  {
   "cell_type": "code",
   "execution_count": 39,
   "id": "453c8ae5-4ad4-4789-9b9e-0de332c28061",
   "metadata": {},
   "outputs": [
    {
     "name": "stdout",
     "output_type": "stream",
     "text": [
      "\n",
      "First 5 rows of the encoded dataset:\n",
      "   country_number  year  systemic_crisis  exch_usd  domestic_debt_in_default  \\\n",
      "0               1  1870                1  0.052264                         0   \n",
      "1               1  1871                0  0.052798                         0   \n",
      "2               1  1872                0  0.052274                         0   \n",
      "3               1  1873                0  0.051680                         0   \n",
      "4               1  1874                0  0.051308                         0   \n",
      "\n",
      "   sovereign_external_debt_default  gdp_weighted_default  \\\n",
      "0                                0                   0.0   \n",
      "1                                0                   0.0   \n",
      "2                                0                   0.0   \n",
      "3                                0                   0.0   \n",
      "4                                0                   0.0   \n",
      "\n",
      "   inflation_annual_cpi  independence  currency_crises  ...  country_code_DZA  \\\n",
      "0              3.441456             0                0  ...              True   \n",
      "1             14.149140             0                0  ...              True   \n",
      "2             -3.718593             0                0  ...              True   \n",
      "3             11.203897             0                0  ...              True   \n",
      "4             -3.848561             0                0  ...              True   \n",
      "\n",
      "   country_code_EGY  country_code_KEN  country_code_MAR  country_code_MUS  \\\n",
      "0             False             False             False             False   \n",
      "1             False             False             False             False   \n",
      "2             False             False             False             False   \n",
      "3             False             False             False             False   \n",
      "4             False             False             False             False   \n",
      "\n",
      "   country_code_NGA  country_code_TUN  country_code_ZAF  country_code_ZMB  \\\n",
      "0             False             False             False             False   \n",
      "1             False             False             False             False   \n",
      "2             False             False             False             False   \n",
      "3             False             False             False             False   \n",
      "4             False             False             False             False   \n",
      "\n",
      "   country_code_ZWE  \n",
      "0             False  \n",
      "1             False  \n",
      "2             False  \n",
      "3             False  \n",
      "4             False  \n",
      "\n",
      "[5 rows x 36 columns]\n"
     ]
    }
   ],
   "source": [
    "# Display first few rows of the encoded dataset\n",
    "print(\"\\nFirst 5 rows of the encoded dataset:\")\n",
    "print(df_encoded.head())"
   ]
  },
  {
   "cell_type": "code",
   "execution_count": 40,
   "id": "c23e95ff-7d21-46c6-8e4b-4f91feb10059",
   "metadata": {},
   "outputs": [],
   "source": [
    "# Features and target\n",
    "X = df_encoded.drop('systemic_crisis', axis=1)\n",
    "y = df_encoded['systemic_crisis']"
   ]
  },
  {
   "cell_type": "code",
   "execution_count": 41,
   "id": "1d704cc2-13d0-44eb-af0c-b1f2e612ef06",
   "metadata": {},
   "outputs": [],
   "source": [
    "# Train-test split with 70-30 ratio\n",
    "X_train, X_test, y_train, y_test = train_test_split(X, y, test_size=0.3, random_state=42)"
   ]
  },
  {
   "cell_type": "code",
   "execution_count": 42,
   "id": "0b52b8ed-9411-497b-8693-749833a98a20",
   "metadata": {},
   "outputs": [
    {
     "name": "stdout",
     "output_type": "stream",
     "text": [
      "\n",
      "Model: Logistic Regression\n",
      "Accuracy: 0.9843\n",
      "F1 Score: 0.8837\n",
      "ROC-AUC: 0.996031746031746\n",
      "Confusion Matrix:\n",
      "[[294   0]\n",
      " [  5  19]]\n",
      "Classification Report:\n",
      "              precision    recall  f1-score   support\n",
      "\n",
      "           0       0.98      1.00      0.99       294\n",
      "           1       1.00      0.79      0.88        24\n",
      "\n",
      "    accuracy                           0.98       318\n",
      "   macro avg       0.99      0.90      0.94       318\n",
      "weighted avg       0.98      0.98      0.98       318\n",
      "\n",
      "============================================================\n",
      "\n",
      "Model: KNN\n",
      "Accuracy: 0.9403\n",
      "F1 Score: 0.5366\n",
      "ROC-AUC: 0.9134778911564625\n",
      "Confusion Matrix:\n",
      "[[288   6]\n",
      " [ 13  11]]\n",
      "Classification Report:\n",
      "              precision    recall  f1-score   support\n",
      "\n",
      "           0       0.96      0.98      0.97       294\n",
      "           1       0.65      0.46      0.54        24\n",
      "\n",
      "    accuracy                           0.94       318\n",
      "   macro avg       0.80      0.72      0.75       318\n",
      "weighted avg       0.93      0.94      0.94       318\n",
      "\n",
      "============================================================\n",
      "\n",
      "Model: Decision Tree\n",
      "Accuracy: 0.9874\n",
      "F1 Score: 0.9200\n",
      "ROC-AUC: 0.9740646258503401\n",
      "Confusion Matrix:\n",
      "[[291   3]\n",
      " [  1  23]]\n",
      "Classification Report:\n",
      "              precision    recall  f1-score   support\n",
      "\n",
      "           0       1.00      0.99      0.99       294\n",
      "           1       0.88      0.96      0.92        24\n",
      "\n",
      "    accuracy                           0.99       318\n",
      "   macro avg       0.94      0.97      0.96       318\n",
      "weighted avg       0.99      0.99      0.99       318\n",
      "\n",
      "============================================================\n",
      "\n",
      "Model: Random Forest\n",
      "Accuracy: 0.9874\n",
      "F1 Score: 0.9130\n",
      "ROC-AUC: 0.9983701814058957\n",
      "Confusion Matrix:\n",
      "[[293   1]\n",
      " [  3  21]]\n",
      "Classification Report:\n",
      "              precision    recall  f1-score   support\n",
      "\n",
      "           0       0.99      1.00      0.99       294\n",
      "           1       0.95      0.88      0.91        24\n",
      "\n",
      "    accuracy                           0.99       318\n",
      "   macro avg       0.97      0.94      0.95       318\n",
      "weighted avg       0.99      0.99      0.99       318\n",
      "\n",
      "============================================================\n",
      "\n",
      "Model: Gradient Boosting\n",
      "Accuracy: 0.9937\n",
      "F1 Score: 0.9583\n",
      "ROC-AUC: 0.9987244897959184\n",
      "Confusion Matrix:\n",
      "[[293   1]\n",
      " [  1  23]]\n",
      "Classification Report:\n",
      "              precision    recall  f1-score   support\n",
      "\n",
      "           0       1.00      1.00      1.00       294\n",
      "           1       0.96      0.96      0.96        24\n",
      "\n",
      "    accuracy                           0.99       318\n",
      "   macro avg       0.98      0.98      0.98       318\n",
      "weighted avg       0.99      0.99      0.99       318\n",
      "\n",
      "============================================================\n",
      "\n",
      "Model: SVM\n",
      "Accuracy: 0.9245\n",
      "F1 Score: 0.0000\n",
      "ROC-AUC: N/A\n",
      "Confusion Matrix:\n",
      "[[294   0]\n",
      " [ 24   0]]\n",
      "Classification Report:\n",
      "              precision    recall  f1-score   support\n",
      "\n",
      "           0       0.92      1.00      0.96       294\n",
      "           1       0.00      0.00      0.00        24\n",
      "\n",
      "    accuracy                           0.92       318\n",
      "   macro avg       0.46      0.50      0.48       318\n",
      "weighted avg       0.85      0.92      0.89       318\n",
      "\n",
      "============================================================\n",
      "\n",
      "Model: Naive Bayes\n",
      "Accuracy: 0.7421\n",
      "F1 Score: 0.3692\n",
      "ROC-AUC: 0.9730725623582767\n",
      "Confusion Matrix:\n",
      "[[212  82]\n",
      " [  0  24]]\n",
      "Classification Report:\n",
      "              precision    recall  f1-score   support\n",
      "\n",
      "           0       1.00      0.72      0.84       294\n",
      "           1       0.23      1.00      0.37        24\n",
      "\n",
      "    accuracy                           0.74       318\n",
      "   macro avg       0.61      0.86      0.60       318\n",
      "weighted avg       0.94      0.74      0.80       318\n",
      "\n",
      "============================================================\n"
     ]
    },
    {
     "name": "stderr",
     "output_type": "stream",
     "text": [
      "C:\\Users\\HARDEY\\anaconda3\\Lib\\site-packages\\sklearn\\metrics\\_classification.py:1344: UndefinedMetricWarning: Precision and F-score are ill-defined and being set to 0.0 in labels with no predicted samples. Use `zero_division` parameter to control this behavior.\n",
      "  _warn_prf(average, modifier, msg_start, len(result))\n",
      "C:\\Users\\HARDEY\\anaconda3\\Lib\\site-packages\\sklearn\\metrics\\_classification.py:1344: UndefinedMetricWarning: Precision and F-score are ill-defined and being set to 0.0 in labels with no predicted samples. Use `zero_division` parameter to control this behavior.\n",
      "  _warn_prf(average, modifier, msg_start, len(result))\n",
      "C:\\Users\\HARDEY\\anaconda3\\Lib\\site-packages\\sklearn\\metrics\\_classification.py:1344: UndefinedMetricWarning: Precision and F-score are ill-defined and being set to 0.0 in labels with no predicted samples. Use `zero_division` parameter to control this behavior.\n",
      "  _warn_prf(average, modifier, msg_start, len(result))\n"
     ]
    },
    {
     "name": "stdout",
     "output_type": "stream",
     "text": [
      "\n",
      "Best Parameters for Random Forest: {'max_depth': 10, 'min_samples_split': 2, 'n_estimators': 100}\n",
      "Tuned Random Forest Accuracy: 0.9843\n",
      "Tuned Random Forest Classification Report:\n",
      "              precision    recall  f1-score   support\n",
      "\n",
      "           0       0.99      0.99      0.99       294\n",
      "           1       0.91      0.88      0.89        24\n",
      "\n",
      "    accuracy                           0.98       318\n",
      "   macro avg       0.95      0.93      0.94       318\n",
      "weighted avg       0.98      0.98      0.98       318\n",
      "\n"
     ]
    }
   ],
   "source": [
    "# Dictionary to store models\n",
    "models = {\n",
    "    'Logistic Regression': LogisticRegression(max_iter=1000),\n",
    "    'KNN': KNeighborsClassifier(),\n",
    "    'Decision Tree': DecisionTreeClassifier(),\n",
    "    'Random Forest': RandomForestClassifier(),\n",
    "    'Gradient Boosting': GradientBoostingClassifier(),\n",
    "    'SVM': SVC(),\n",
    "    'Naive Bayes': GaussianNB()\n",
    "}\n",
    "\n",
    "# Loop through each model, train it, and evaluate performance\n",
    "for name, model in models.items():\n",
    "    model.fit(X_train, y_train)  # Train the model\n",
    "    y_pred = model.predict(X_test)  # Predict on the test set\n",
    "    \n",
    "    # Evaluate model performance using multiple metrics\n",
    "    accuracy = accuracy_score(y_test, y_pred)\n",
    "    f1 = f1_score(y_test, y_pred)\n",
    "    roc_auc = roc_auc_score(y_test, model.predict_proba(X_test)[:, 1]) if hasattr(model, \"predict_proba\") else \"N/A\"\n",
    "    \n",
    "    print(f\"\\nModel: {name}\")\n",
    "    print(f\"Accuracy: {accuracy:.4f}\")\n",
    "    print(f\"F1 Score: {f1:.4f}\")\n",
    "    print(f\"ROC-AUC: {roc_auc}\")\n",
    "    print(f\"Confusion Matrix:\\n{confusion_matrix(y_test, y_pred)}\")\n",
    "    print(f\"Classification Report:\\n{classification_report(y_test, y_pred)}\")\n",
    "    print(\"=\" * 60)\n",
    "\n",
    "# Improving Model Performance (Hyperparameter Tuning Example for Random Forest)\n",
    "param_grid = {\n",
    "    'n_estimators': [50, 100, 200],\n",
    "    'max_depth': [5, 10, 20],\n",
    "    'min_samples_split': [2, 5, 10]\n",
    "}\n",
    "\n",
    "# Randomized search for hyperparameter tuning\n",
    "grid_search = GridSearchCV(RandomForestClassifier(), param_grid, cv=5, scoring='accuracy')\n",
    "grid_search.fit(X_train, y_train)\n",
    "\n",
    "print(f\"\\nBest Parameters for Random Forest: {grid_search.best_params_}\")\n",
    "best_rf = grid_search.best_estimator_\n",
    "\n",
    "# Evaluate tuned Random Forest model\n",
    "y_pred_tuned = best_rf.predict(X_test)\n",
    "print(f\"Tuned Random Forest Accuracy: {accuracy_score(y_test, y_pred_tuned):.4f}\")\n",
    "print(f\"Tuned Random Forest Classification Report:\\n{classification_report(y_test, y_pred_tuned)}\")"
   ]
  }
 ],
 "metadata": {
  "kernelspec": {
   "display_name": "Python 3 (ipykernel)",
   "language": "python",
   "name": "python3"
  },
  "language_info": {
   "codemirror_mode": {
    "name": "ipython",
    "version": 3
   },
   "file_extension": ".py",
   "mimetype": "text/x-python",
   "name": "python",
   "nbconvert_exporter": "python",
   "pygments_lexer": "ipython3",
   "version": "3.11.7"
  }
 },
 "nbformat": 4,
 "nbformat_minor": 5
}
