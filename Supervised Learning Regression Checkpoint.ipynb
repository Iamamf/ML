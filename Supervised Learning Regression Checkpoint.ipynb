{
 "cells": [
  {
   "cell_type": "markdown",
   "id": "97a1d80b-85e7-4de1-b205-267ebcfec6f7",
   "metadata": {},
   "source": [
    "### What You're Aiming For\n",
    "\n",
    "In this checkpoint, you are going to work on the '5G-Energy consumption' dataset that was provided by the  international telecommunication union (ITU) in 2023 as part of a global challenge or competition for data scientists all over the world to solve the 5G energy consumption modelling using machine learning techniques.\n",
    "\n",
    "The competition is taking place from 2023-07-05 to 2023-09-30. Fore more information click here.\n",
    "\n",
    "Checkpoint problematic : Network operational expenditure (OPEX) already accounts for around 25 percent of the total telecom operator’s cost, and 90 percent of it is spent on large energy bills. More than 70 percent of this energy is estimated to be consumed by the radio access network (RAN), particularly by the base stations (BSs). Thus, the objective is to build and train a ML model to estimate the energy consumed by different 5G base stations taking into consideration the impact of various engineering configurations, traffic conditions, and energy-saving methods.\n",
    "\n",
    "Dataset description : This dataset is derived from the original copy and simplified for learning purposes. It includes cell-level traffic statistics of 4G/5G sites collected on different days.\n",
    "\n",
    "➡️ Dataset link\n",
    "\n",
    "https://i.imgur.com/Agu9zeP.jpg\n",
    "\n",
    " \n",
    "\n",
    "\n",
    "Instructions\n",
    "\n",
    "Import you data and perform basic data exploration phase\n",
    "Display general information about the dataset\n",
    "Create a pandas profiling reports to gain insights into the dataset\n",
    "Handle Missing and corrupted values\n",
    "Remove duplicates, if they exist\n",
    "Handle outliers, if they exist\n",
    "Encode categorical features\n",
    "Select your target variable and the features\n",
    "Split your dataset to training and test sets\n",
    "Based on your data exploration phase select a ML regression algorithm and train it on the training set\n",
    "Assess your model performance on the test set using relevant evaluation metrics\n",
    "Discuss with your cohort alternative ways to improve your model performance"
   ]
  },
  {
   "cell_type": "code",
   "execution_count": 56,
   "id": "82b69211-b6dc-49c4-9327-0dd52832e026",
   "metadata": {},
   "outputs": [],
   "source": [
    "import pandas as pd\n",
    "import numpy as np\n",
    "import matplotlib.pyplot as plt\n",
    "import seaborn as sns\n",
    "import plotly.express as px\n",
    "import plotly.graph_objects as go\n",
    "\n",
    "# Import libraries for machine learning models and evaluation\n",
    "from sklearn.model_selection import train_test_split  # For splitting data into training and testing sets\n",
    "from sklearn.preprocessing import StandardScaler, OneHotEncoder  # For scaling numerical data and encoding categorical data\n",
    "from sklearn.linear_model import LinearRegression, ElasticNet  # For linear Regression\n",
    "from sklearn.tree import DecisionTreeRegressor  # For Decision Tree Regression\n",
    "from sklearn.ensemble import RandomForestRegressor  # For Random Forest Regression\n",
    "from sklearn.svm import SVR  # For Support Vector Regression \n",
    "import xgboost as xgb # For XGBoost Regression\n",
    "from sklearn.metrics import mean_squared_error, r2_score, make_scorer  # For model evaluation metrics"
   ]
  },
  {
   "cell_type": "code",
   "execution_count": 57,
   "id": "253f047f-7cce-4199-b04e-683f958c1394",
   "metadata": {},
   "outputs": [],
   "source": [
    "energy_df = pd.read_csv(\"5G_energy_consumption_dataset.csv\")"
   ]
  },
  {
   "cell_type": "code",
   "execution_count": 58,
   "id": "4b244974-c0e6-4aee-9aeb-ab1cd492faec",
   "metadata": {},
   "outputs": [
    {
     "data": {
      "text/html": [
       "<div>\n",
       "<style scoped>\n",
       "    .dataframe tbody tr th:only-of-type {\n",
       "        vertical-align: middle;\n",
       "    }\n",
       "\n",
       "    .dataframe tbody tr th {\n",
       "        vertical-align: top;\n",
       "    }\n",
       "\n",
       "    .dataframe thead th {\n",
       "        text-align: right;\n",
       "    }\n",
       "</style>\n",
       "<table border=\"1\" class=\"dataframe\">\n",
       "  <thead>\n",
       "    <tr style=\"text-align: right;\">\n",
       "      <th></th>\n",
       "      <th>Time</th>\n",
       "      <th>BS</th>\n",
       "      <th>Energy</th>\n",
       "      <th>load</th>\n",
       "      <th>ESMODE</th>\n",
       "      <th>TXpower</th>\n",
       "    </tr>\n",
       "  </thead>\n",
       "  <tbody>\n",
       "    <tr>\n",
       "      <th>0</th>\n",
       "      <td>20230101 010000</td>\n",
       "      <td>B_0</td>\n",
       "      <td>64.275037</td>\n",
       "      <td>0.487936</td>\n",
       "      <td>0.0</td>\n",
       "      <td>7.101719</td>\n",
       "    </tr>\n",
       "    <tr>\n",
       "      <th>1</th>\n",
       "      <td>20230101 020000</td>\n",
       "      <td>B_0</td>\n",
       "      <td>55.904335</td>\n",
       "      <td>0.344468</td>\n",
       "      <td>0.0</td>\n",
       "      <td>7.101719</td>\n",
       "    </tr>\n",
       "    <tr>\n",
       "      <th>2</th>\n",
       "      <td>20230101 030000</td>\n",
       "      <td>B_0</td>\n",
       "      <td>57.698057</td>\n",
       "      <td>0.193766</td>\n",
       "      <td>0.0</td>\n",
       "      <td>7.101719</td>\n",
       "    </tr>\n",
       "    <tr>\n",
       "      <th>3</th>\n",
       "      <td>20230101 040000</td>\n",
       "      <td>B_0</td>\n",
       "      <td>55.156951</td>\n",
       "      <td>0.222383</td>\n",
       "      <td>0.0</td>\n",
       "      <td>7.101719</td>\n",
       "    </tr>\n",
       "    <tr>\n",
       "      <th>4</th>\n",
       "      <td>20230101 050000</td>\n",
       "      <td>B_0</td>\n",
       "      <td>56.053812</td>\n",
       "      <td>0.175436</td>\n",
       "      <td>0.0</td>\n",
       "      <td>7.101719</td>\n",
       "    </tr>\n",
       "  </tbody>\n",
       "</table>\n",
       "</div>"
      ],
      "text/plain": [
       "              Time   BS     Energy      load  ESMODE   TXpower\n",
       "0  20230101 010000  B_0  64.275037  0.487936     0.0  7.101719\n",
       "1  20230101 020000  B_0  55.904335  0.344468     0.0  7.101719\n",
       "2  20230101 030000  B_0  57.698057  0.193766     0.0  7.101719\n",
       "3  20230101 040000  B_0  55.156951  0.222383     0.0  7.101719\n",
       "4  20230101 050000  B_0  56.053812  0.175436     0.0  7.101719"
      ]
     },
     "execution_count": 58,
     "metadata": {},
     "output_type": "execute_result"
    }
   ],
   "source": [
    "energy_df.head()"
   ]
  },
  {
   "cell_type": "code",
   "execution_count": 59,
   "id": "3af8a378-f15f-4988-894a-ffe09fdc6661",
   "metadata": {},
   "outputs": [
    {
     "name": "stdout",
     "output_type": "stream",
     "text": [
      "<class 'pandas.core.frame.DataFrame'>\n",
      "RangeIndex: 92629 entries, 0 to 92628\n",
      "Data columns (total 6 columns):\n",
      " #   Column   Non-Null Count  Dtype  \n",
      "---  ------   --------------  -----  \n",
      " 0   Time     92629 non-null  object \n",
      " 1   BS       92629 non-null  object \n",
      " 2   Energy   92629 non-null  float64\n",
      " 3   load     92629 non-null  float64\n",
      " 4   ESMODE   92629 non-null  float64\n",
      " 5   TXpower  92629 non-null  float64\n",
      "dtypes: float64(4), object(2)\n",
      "memory usage: 4.2+ MB\n"
     ]
    }
   ],
   "source": [
    "# Display general information about the dataset\n",
    "energy_df.info()"
   ]
  },
  {
   "cell_type": "code",
   "execution_count": 60,
   "id": "8e1e2b77-cec1-47f9-af25-8d231cca15c8",
   "metadata": {},
   "outputs": [
    {
     "data": {
      "image/png": "[encoded data removed]",
      "text/plain": [
       "<Figure size 1400x1000 with 4 Axes>"
      ]
     },
     "metadata": {},
     "output_type": "display_data"
    }
   ],
   "source": [
    "import matplotlib.pyplot as plt\n",
    "import seaborn as sns\n",
    "\n",
    "# Set plot style for better visualization\n",
    "sns.set(style=\"whitegrid\")\n",
    "\n",
    "# Plot distributions of the key numerical features to check for outliers\n",
    "fig, axes = plt.subplots(2, 2, figsize=(14, 10))\n",
    "\n",
    "# Distribution plot for Energy consumption\n",
    "sns.boxplot(x=energy_df['Energy'], ax=axes[0, 0], color=\"skyblue\")\n",
    "axes[0, 0].set_title(\"Energy Distribution\")\n",
    "\n",
    "# Distribution plot for load\n",
    "sns.boxplot(x=energy_df['load'], ax=axes[0, 1], color=\"lightgreen\")\n",
    "axes[0, 1].set_title(\"Load Distribution\")\n",
    "\n",
    "# Distribution plot for ESMODE\n",
    "sns.boxplot(x=energy_df['ESMODE'], ax=axes[1, 0], color=\"salmon\")\n",
    "axes[1, 0].set_title(\"ESMODE Distribution\")\n",
    "\n",
    "# Distribution plot for TXpower\n",
    "sns.boxplot(x=energy_df['TXpower'], ax=axes[1, 1], color=\"lightcoral\")\n",
    "axes[1, 1].set_title(\"TXpower Distribution\")\n",
    "\n",
    "plt.tight_layout()\n",
    "plt.show()"
   ]
  },
  {
   "cell_type": "code",
   "execution_count": 61,
   "id": "50533748-dbaf-4054-9537-6d904b89585b",
   "metadata": {},
   "outputs": [],
   "source": [
    "from ydata_profiling import ProfileReport"
   ]
  },
  {
   "cell_type": "code",
   "execution_count": 62,
   "id": "0091d511-3b47-421f-be7d-a899ad90db20",
   "metadata": {},
   "outputs": [],
   "source": [
    "profile = ProfileReport(energy_df, title='Pandas Profiling Report', explorative = True)"
   ]
  },
  {
   "cell_type": "code",
   "execution_count": 63,
   "id": "a83eb64d-3e94-479a-af5b-d074dec998f6",
   "metadata": {},
   "outputs": [],
   "source": [
    "energy_df = energy_df.drop(\"ESMODE\", axis = 1)"
   ]
  },
  {
   "cell_type": "code",
   "execution_count": 64,
   "id": "6e19c283-eb46-4ec4-ae02-bdb7757871ae",
   "metadata": {},
   "outputs": [],
   "source": [
    "energy_df = energy_df.drop(\"Time\", axis = 1)"
   ]
  },
  {
   "cell_type": "code",
   "execution_count": 65,
   "id": "5601e790-fbb4-49c1-aa11-eb8ec05d4203",
   "metadata": {},
   "outputs": [
    {
     "data": {
      "text/html": [
       "<div>\n",
       "<style scoped>\n",
       "    .dataframe tbody tr th:only-of-type {\n",
       "        vertical-align: middle;\n",
       "    }\n",
       "\n",
       "    .dataframe tbody tr th {\n",
       "        vertical-align: top;\n",
       "    }\n",
       "\n",
       "    .dataframe thead th {\n",
       "        text-align: right;\n",
       "    }\n",
       "</style>\n",
       "<table border=\"1\" class=\"dataframe\">\n",
       "  <thead>\n",
       "    <tr style=\"text-align: right;\">\n",
       "      <th></th>\n",
       "      <th>BS</th>\n",
       "      <th>Energy</th>\n",
       "      <th>load</th>\n",
       "      <th>TXpower</th>\n",
       "    </tr>\n",
       "  </thead>\n",
       "  <tbody>\n",
       "    <tr>\n",
       "      <th>0</th>\n",
       "      <td>B_0</td>\n",
       "      <td>64.275037</td>\n",
       "      <td>0.487936</td>\n",
       "      <td>7.101719</td>\n",
       "    </tr>\n",
       "    <tr>\n",
       "      <th>1</th>\n",
       "      <td>B_0</td>\n",
       "      <td>55.904335</td>\n",
       "      <td>0.344468</td>\n",
       "      <td>7.101719</td>\n",
       "    </tr>\n",
       "    <tr>\n",
       "      <th>2</th>\n",
       "      <td>B_0</td>\n",
       "      <td>57.698057</td>\n",
       "      <td>0.193766</td>\n",
       "      <td>7.101719</td>\n",
       "    </tr>\n",
       "    <tr>\n",
       "      <th>3</th>\n",
       "      <td>B_0</td>\n",
       "      <td>55.156951</td>\n",
       "      <td>0.222383</td>\n",
       "      <td>7.101719</td>\n",
       "    </tr>\n",
       "    <tr>\n",
       "      <th>4</th>\n",
       "      <td>B_0</td>\n",
       "      <td>56.053812</td>\n",
       "      <td>0.175436</td>\n",
       "      <td>7.101719</td>\n",
       "    </tr>\n",
       "    <tr>\n",
       "      <th>...</th>\n",
       "      <td>...</td>\n",
       "      <td>...</td>\n",
       "      <td>...</td>\n",
       "      <td>...</td>\n",
       "    </tr>\n",
       "    <tr>\n",
       "      <th>92624</th>\n",
       "      <td>B_1018</td>\n",
       "      <td>14.648729</td>\n",
       "      <td>0.087538</td>\n",
       "      <td>7.325859</td>\n",
       "    </tr>\n",
       "    <tr>\n",
       "      <th>92625</th>\n",
       "      <td>B_1018</td>\n",
       "      <td>14.648729</td>\n",
       "      <td>0.082635</td>\n",
       "      <td>7.325859</td>\n",
       "    </tr>\n",
       "    <tr>\n",
       "      <th>92626</th>\n",
       "      <td>B_1018</td>\n",
       "      <td>13.452915</td>\n",
       "      <td>0.055538</td>\n",
       "      <td>7.325859</td>\n",
       "    </tr>\n",
       "    <tr>\n",
       "      <th>92627</th>\n",
       "      <td>B_1018</td>\n",
       "      <td>13.602392</td>\n",
       "      <td>0.058077</td>\n",
       "      <td>7.325859</td>\n",
       "    </tr>\n",
       "    <tr>\n",
       "      <th>92628</th>\n",
       "      <td>B_1018</td>\n",
       "      <td>13.303438</td>\n",
       "      <td>0.048173</td>\n",
       "      <td>7.325859</td>\n",
       "    </tr>\n",
       "  </tbody>\n",
       "</table>\n",
       "<p>92629 rows × 4 columns</p>\n",
       "</div>"
      ],
      "text/plain": [
       "           BS     Energy      load   TXpower\n",
       "0         B_0  64.275037  0.487936  7.101719\n",
       "1         B_0  55.904335  0.344468  7.101719\n",
       "2         B_0  57.698057  0.193766  7.101719\n",
       "3         B_0  55.156951  0.222383  7.101719\n",
       "4         B_0  56.053812  0.175436  7.101719\n",
       "...       ...        ...       ...       ...\n",
       "92624  B_1018  14.648729  0.087538  7.325859\n",
       "92625  B_1018  14.648729  0.082635  7.325859\n",
       "92626  B_1018  13.452915  0.055538  7.325859\n",
       "92627  B_1018  13.602392  0.058077  7.325859\n",
       "92628  B_1018  13.303438  0.048173  7.325859\n",
       "\n",
       "[92629 rows x 4 columns]"
      ]
     },
     "execution_count": 65,
     "metadata": {},
     "output_type": "execute_result"
    }
   ],
   "source": [
    "energy_df"
   ]
  },
  {
   "cell_type": "code",
   "execution_count": 66,
   "id": "367c632c-8964-49b0-a2db-61509fdab5a9",
   "metadata": {},
   "outputs": [],
   "source": [
    "from sklearn.preprocessing import LabelEncoder"
   ]
  },
  {
   "cell_type": "code",
   "execution_count": 67,
   "id": "c12d881d-b759-4128-9b60-4480894bc28c",
   "metadata": {},
   "outputs": [],
   "source": [
    "le = LabelEncoder()\n",
    "energy_df[\"BS\"] = le.fit_transform(energy_df[\"BS\"])"
   ]
  },
  {
   "cell_type": "code",
   "execution_count": 68,
   "id": "33f955ae-3c80-40e1-8b12-b31bbc4a1198",
   "metadata": {},
   "outputs": [
    {
     "name": "stdout",
     "output_type": "stream",
     "text": [
      "<class 'pandas.core.frame.DataFrame'>\n",
      "RangeIndex: 92629 entries, 0 to 92628\n",
      "Data columns (total 4 columns):\n",
      " #   Column   Non-Null Count  Dtype  \n",
      "---  ------   --------------  -----  \n",
      " 0   BS       92629 non-null  int32  \n",
      " 1   Energy   92629 non-null  float64\n",
      " 2   load     92629 non-null  float64\n",
      " 3   TXpower  92629 non-null  float64\n",
      "dtypes: float64(3), int32(1)\n",
      "memory usage: 2.5 MB\n"
     ]
    }
   ],
   "source": [
    "energy_df.info()"
   ]
  },
  {
   "cell_type": "code",
   "execution_count": 69,
   "id": "7c5093cd-697d-48d7-bb02-ef0ab46e409d",
   "metadata": {
    "scrolled": true
   },
   "outputs": [
    {
     "data": {
      "image/png": "[encoded data removed]",
      "text/plain": [
       "<Figure size 800x600 with 1 Axes>"
      ]
     },
     "metadata": {},
     "output_type": "display_data"
    }
   ],
   "source": [
    "# Ensure inline plotting for Jupyter notebooks or notebook environments\n",
    "%matplotlib inline  \n",
    "\n",
    "import matplotlib.pyplot as plt\n",
    "\n",
    "# Assuming energy_df is already defined and contains a 'load' column.\n",
    "plt.figure(figsize=(8, 6))\n",
    "plt.boxplot(energy_df[\"load\"])\n",
    "\n",
    "# Adding titles and labels\n",
    "plt.title(\"Box Plot of Load\")\n",
    "plt.xlabel(\"Load\")\n",
    "plt.ylabel(\"Value\")  # Y-axis label for the range of values in the 'load' column\n",
    "\n",
    "# Show the plot\n",
    "plt.show()"
   ]
  },
  {
   "cell_type": "code",
   "execution_count": 70,
   "id": "8eba89c3-d2c4-4433-a9a9-da12cd875a50",
   "metadata": {},
   "outputs": [],
   "source": [
    "X = energy_df.drop(columns=['Energy'])\n",
    "y = energy_df['Energy']"
   ]
  },
  {
   "cell_type": "code",
   "execution_count": 71,
   "id": "6df0c77e-c5db-4652-b9d9-2a6b9d0158cb",
   "metadata": {},
   "outputs": [],
   "source": [
    "X_train, X_test, y_train, y_test = train_test_split(X, y, test_size=0.2, random_state=42)\n",
    "\n",
    "# X: Features (independent variables) in the dataset\n",
    "# y: Target (dependent variable) in the dataset\n",
    "\n",
    "# test_size=0.2: Specifies that 20% of the data should be used for the test set, \n",
    "# and the remaining 80% for the training set.\n",
    "\n",
    "# random_state=42: Ensures that the data is split in the same way every time you run the code, \n",
    "# providing reproducibility. The number 42 is arbitrary and can be any integer.\n",
    "\n",
    "# X_train: Training data for the features\n",
    "# X_test: Testing data for the features\n",
    "\n",
    "# y_train: Training data for the target\n",
    "# y_test: Testing data for the target"
   ]
  },
  {
   "cell_type": "code",
   "execution_count": 72,
   "id": "0676e0bb-8419-490d-a0e5-bfeb5d846cf3",
   "metadata": {},
   "outputs": [],
   "source": [
    "# Create a StandardScaler instance\n",
    "scaler = StandardScaler()\n",
    "\n",
    "# Fit and transform the training data\n",
    "X_train_scaled = scaler.fit_transform(X_train)\n",
    "\n",
    "# Transform the test data\n",
    "X_test_scaled = scaler.transform(X_test)"
   ]
  },
  {
   "cell_type": "markdown",
   "id": "a596f8d9-e675-4354-a8dd-7c87cd3567ff",
   "metadata": {},
   "source": [
    "### Linear Regression"
   ]
  },
  {
   "cell_type": "code",
   "execution_count": 74,
   "id": "554db2a3-f56d-4be4-bee3-b412f76fc447",
   "metadata": {},
   "outputs": [
    {
     "name": "stdout",
     "output_type": "stream",
     "text": [
      "Linear Regression RMSE: 9.592962805\n",
      "Linear Regression R2 Score: 0.5151638223607956\n"
     ]
    }
   ],
   "source": [
    "# Initialize the model\n",
    "lin_reg = LinearRegression()\n",
    "\n",
    "# Fit the model\n",
    "lin_reg.fit(X_train_scaled, y_train)\n",
    "\n",
    "# Predicting on test data\n",
    "y_pred_lr = lin_reg.predict(X_test_scaled)\n",
    "\n",
    "# Model evaluation\n",
    "print(\"Linear Regression RMSE:\", mean_squared_error(y_test, y_pred_lr, squared=False))\n",
    "print(\"Linear Regression R2 Score:\", r2_score(y_test, y_pred_lr))"
   ]
  },
  {
   "cell_type": "markdown",
   "id": "5db00bd3-e94d-44dc-a696-d7d258c911db",
   "metadata": {},
   "source": [
    "### Elastic Net Regression"
   ]
  },
  {
   "cell_type": "code",
   "execution_count": 76,
   "id": "eb08d11b-59e9-4762-b1df-8eb21a9beed0",
   "metadata": {},
   "outputs": [
    {
     "name": "stdout",
     "output_type": "stream",
     "text": [
      "Elastic Net RMSE: 9.595750083385305\n",
      "Elastic Net R2 Score: 0.5148820387763862\n"
     ]
    }
   ],
   "source": [
    "from sklearn.linear_model import ElasticNet\n",
    "\n",
    "# Initialize the Elastic Net model\n",
    "elastic_net = ElasticNet(alpha=0.1, l1_ratio=0.5, random_state=42)\n",
    "\n",
    "# Fit the model\n",
    "elastic_net.fit(X_train_scaled, y_train)\n",
    "\n",
    "# Predicting on test data\n",
    "y_pred_en = elastic_net.predict(X_test_scaled)\n",
    "\n",
    "# Model evaluation\n",
    "print(\"Elastic Net RMSE:\", mean_squared_error(y_test, y_pred_en, squared=False))\n",
    "print(\"Elastic Net R2 Score:\", r2_score(y_test, y_pred_en))"
   ]
  },
  {
   "cell_type": "markdown",
   "id": "66d35988-2e7f-4c0c-b76a-5e94c6fd2d94",
   "metadata": {},
   "source": [
    "#### 3. Decision Tree Regression"
   ]
  },
  {
   "cell_type": "code",
   "execution_count": 78,
   "id": "e50314e2-e513-4fdb-b38f-7319c3c0a2e7",
   "metadata": {},
   "outputs": [
    {
     "name": "stdout",
     "output_type": "stream",
     "text": [
      "Decision Tree RMSE: 6.099604855505518\n",
      "Decision Tree R2 Score: 0.803983378077745\n"
     ]
    }
   ],
   "source": [
    "# Initialize the model with some parameters\n",
    "tree_reg = DecisionTreeRegressor(max_depth=5, min_samples_split=10, random_state=42)\n",
    "\n",
    "# Fit the model\n",
    "tree_reg.fit(X_train_scaled, y_train)\n",
    "\n",
    "# Predicting on test data\n",
    "y_pred_tree = tree_reg.predict(X_test_scaled)\n",
    "\n",
    "# Model evaluation\n",
    "print(\"Decision Tree RMSE:\", mean_squared_error(y_test, y_pred_tree, squared=False))\n",
    "print(\"Decision Tree R2 Score:\", r2_score(y_test, y_pred_tree))"
   ]
  },
  {
   "cell_type": "markdown",
   "id": "3d9325b3-3a89-4e7d-bccc-2ddfb4d79161",
   "metadata": {},
   "source": [
    "#### 4. Random Forest Regression"
   ]
  },
  {
   "cell_type": "code",
   "execution_count": 80,
   "id": "72590d58-5122-4462-be9d-e8586e72104e",
   "metadata": {},
   "outputs": [
    {
     "name": "stdout",
     "output_type": "stream",
     "text": [
      "Random Forest RMSE: 4.619810850211676\n",
      "Random Forest R2 Score: 0.8875555857193493\n"
     ]
    }
   ],
   "source": [
    "# Initialize the model with some parameters\n",
    "rf_reg = RandomForestRegressor(n_estimators=100, max_depth=10, min_samples_split=5, random_state=42)\n",
    "\n",
    "# Fit the model\n",
    "rf_reg.fit(X_train_scaled, y_train)\n",
    "\n",
    "# Predicting on test data\n",
    "y_pred_rf = rf_reg.predict(X_test_scaled)\n",
    "\n",
    "# Model evaluation\n",
    "print(\"Random Forest RMSE:\", mean_squared_error(y_test, y_pred_rf, squared=False))\n",
    "print(\"Random Forest R2 Score:\", r2_score(y_test, y_pred_rf))"
   ]
  },
  {
   "cell_type": "markdown",
   "id": "33d8481a-9a45-426f-b218-2129adcf0b95",
   "metadata": {},
   "source": [
    "#### 5. Support Vector Regression (SVR)"
   ]
  },
  {
   "cell_type": "code",
   "execution_count": 82,
   "id": "ba1ed3ea-1f6f-4fdd-a31a-cdb565879abc",
   "metadata": {},
   "outputs": [
    {
     "name": "stdout",
     "output_type": "stream",
     "text": [
      "SVR RMSE: 7.058495090960337\n",
      "SVR R2 Score: 0.7375094145343631\n"
     ]
    }
   ],
   "source": [
    "# Initialize the model with some parameters\n",
    "svr_reg = SVR(kernel='rbf', C=100, epsilon=0.1)\n",
    "\n",
    "# Fit the model\n",
    "svr_reg.fit(X_train_scaled, y_train)\n",
    "\n",
    "# Predicting on test data\n",
    "y_pred_svr = svr_reg.predict(X_test_scaled)\n",
    "\n",
    "# Model evaluation\n",
    "print(\"SVR RMSE:\", mean_squared_error(y_test, y_pred_svr, squared=False))\n",
    "print(\"SVR R2 Score:\", r2_score(y_test, y_pred_svr))"
   ]
  },
  {
   "cell_type": "markdown",
   "id": "4783b14a-fa3a-4d2c-8e5f-1c33ace9d8a1",
   "metadata": {},
   "source": [
    "#### 6. XGBoost  (eXtreme Gradient Boosting)  Regression"
   ]
  },
  {
   "cell_type": "code",
   "execution_count": 84,
   "id": "12290cf6-e3d4-4b2a-b751-a7df093214cf",
   "metadata": {},
   "outputs": [
    {
     "name": "stdout",
     "output_type": "stream",
     "text": [
      "XGBoost RMSE: 4.534745239121939\n",
      "XGBoost R2 Score: 0.8916583901293004\n"
     ]
    }
   ],
   "source": [
    "# Initialize the model with some parameters\n",
    "xgb_reg = xgb.XGBRegressor(n_estimators=100, learning_rate=0.05, max_depth=6)\n",
    "\n",
    "# Fit the model\n",
    "xgb_reg.fit(X_train_scaled, y_train)\n",
    "\n",
    "# Predicting on test data\n",
    "y_pred_xgb = xgb_reg.predict(X_test_scaled)\n",
    "\n",
    "# Model evaluation\n",
    "print(\"XGBoost RMSE:\", mean_squared_error(y_test, y_pred_xgb, squared=False))\n",
    "print(\"XGBoost R2 Score:\", r2_score(y_test, y_pred_xgb))"
   ]
  },
  {
   "cell_type": "markdown",
   "id": "7e917612-a7c4-491b-a9bd-498decaf2f0d",
   "metadata": {},
   "source": [
    "#### 7. LightGBM (Light Gradient Boosting Machine)"
   ]
  },
  {
   "cell_type": "code",
   "execution_count": 86,
   "id": "62b9f78e-cf83-4a23-b71a-de5ff8916dd9",
   "metadata": {},
   "outputs": [
    {
     "name": "stdout",
     "output_type": "stream",
     "text": [
      "[LightGBM] [Info] Auto-choosing row-wise multi-threading, the overhead of testing was 0.001305 seconds.\n",
      "You can set `force_row_wise=true` to remove the overhead.\n",
      "And if memory is not enough, you can set `force_col_wise=true`.\n",
      "[LightGBM] [Info] Total Bins 551\n",
      "[LightGBM] [Info] Number of data points in the train set: 74103, number of used features: 3\n",
      "[LightGBM] [Info] Start training from score 28.169891\n",
      "Mean Squared Error: 16.637769940734213\n",
      "R2 Score: 0.9123434018251478\n"
     ]
    }
   ],
   "source": [
    "import lightgbm as lgb\n",
    "\n",
    "# Initialize the LightGBM regressor model\n",
    "lgbm_model = lgb.LGBMRegressor(random_state=42)\n",
    "\n",
    "# Train the model on the scaled training data\n",
    "lgbm_model.fit(X_train_scaled, y_train)\n",
    "\n",
    "# Make predictions on the test data\n",
    "y_pred = lgbm_model.predict(X_test_scaled)\n",
    "\n",
    "# Evaluate the model performance\n",
    "mse = mean_squared_error(y_test, y_pred)\n",
    "r2 = r2_score(y_test, y_pred)\n",
    "\n",
    "print(f'Mean Squared Error: {mse}')\n",
    "print(f'R2 Score: {r2}')"
   ]
  },
  {
   "cell_type": "markdown",
   "id": "631a88cb-cd45-44b1-af5c-9ef57fd83d9d",
   "metadata": {},
   "source": [
    "### With Cross Validation"
   ]
  },
  {
   "cell_type": "code",
   "execution_count": 88,
   "id": "2512739f-76ab-47cf-9f39-5480622cb7bd",
   "metadata": {},
   "outputs": [],
   "source": [
    "# Import the necessary functions from scikit-learn\n",
    "from sklearn.metrics import make_scorer  # To create custom scoring functions\n",
    "from sklearn.model_selection import cross_validate  # To perform cross-validation"
   ]
  },
  {
   "cell_type": "code",
   "execution_count": 89,
   "id": "a8ef51b1-c87b-4b5f-8d2c-fe8b28878727",
   "metadata": {},
   "outputs": [
    {
     "name": "stdout",
     "output_type": "stream",
     "text": [
      "RMSE scores: [ 6.65697401  5.33946021  7.06939895  6.22150669 11.41136288]\n",
      "R² scores: [0.79533036 0.83302464 0.77570855 0.78470735 0.26394873]\n",
      "Average RMSE: 7.339740548577554\n",
      "Average R²: 0.690543927343468\n"
     ]
    }
   ],
   "source": [
    "# Initialize the XGBoost model\n",
    "model = xgb.XGBRegressor(n_estimators=200, learning_rate=0.02, max_depth=7, random_state=42)\n",
    "\n",
    "# Create custom scorers for RMSE and R²\n",
    "# `make_scorer` allows using custom metrics or built-in metrics in cross-validation\n",
    "rmse_scorer = make_scorer(mean_squared_error, squared=False)\n",
    "r2_scorer = make_scorer(r2_score)\n",
    "\n",
    "# Dictionary of scoring metrics\n",
    "scoring = {'RMSE': rmse_scorer, 'R2': r2_scorer}\n",
    "\n",
    "# Perform cross-validation\n",
    "# `cross_validate` splits the data into folds, trains and tests the model, and calculates the scores\n",
    "cv_results = cross_validate(model, X, y, scoring=scoring, cv=5, return_train_score=True)\n",
    "# Note that we are using X and y and not X_train and y_train\n",
    "\n",
    "# Output the results\n",
    "# `cv_results` contains the scores for each fold\n",
    "print(\"RMSE scores:\", cv_results['test_RMSE'])  # RMSE scores for each fold\n",
    "print(\"R² scores:\", cv_results['test_R2'])  # R² scores for each fold\n",
    "print(\"Average RMSE:\", cv_results['test_RMSE'].mean())  # Average RMSE across all folds\n",
    "print(\"Average R²:\", cv_results['test_R2'].mean())  # Average R² score across all folds"
   ]
  },
  {
   "cell_type": "code",
   "execution_count": 90,
   "id": "8e0aed82-9500-46b7-817d-d76e5c3a8cca",
   "metadata": {},
   "outputs": [
    {
     "name": "stdout",
     "output_type": "stream",
     "text": [
      "Best Parameters for XGBoost: {'n_estimators': 200, 'learning_rate': 0.2, 'max_depth': 7}\n",
      "Best RMSE for XGBoost: 3.385698328798997\n",
      "Best R² Score for XGBoost: 0.9396070817292541\n"
     ]
    }
   ],
   "source": [
    "# We'll use XGBoost and tune the n_estimators, learning_rate, and max_depth.\n",
    "\n",
    "# Initialize the best RMSE and best R² to extreme values to ensure any calculated values will be better\n",
    "best_rmse = float('inf')\n",
    "best_r2 = -float('inf')\n",
    "best_params = {}\n",
    "\n",
    "# Iterate over different values for n_estimators, learning_rate, and max_depth\n",
    "for n_estimators in [50, 100, 200]:  # Number of boosting rounds\n",
    "    for learning_rate in [0.01, 0.1, 0.2]:  # Step size at each iteration\n",
    "        for max_depth in range(3, 10, 2):  # Maximum depth of each tree\n",
    "\n",
    "            # Initialize the XGBoost model with the current set of hyperparameters\n",
    "            xgb_reg = xgb.XGBRegressor(\n",
    "                n_estimators=n_estimators,       # Number of boosting rounds\n",
    "                learning_rate=learning_rate,     # Step size at each iteration\n",
    "                max_depth=max_depth,             # Maximum depth of each tree\n",
    "                random_state=42                  # Ensures reproducibility\n",
    "            )\n",
    "            \n",
    "            # Train the model using the training data\n",
    "            xgb_reg.fit(X_train, y_train)\n",
    "            \n",
    "            # Predict the target values for the test data\n",
    "            y_pred_xgb = xgb_reg.predict(X_test)\n",
    "            \n",
    "            # Calculate Root Mean Squared Error (RMSE) and R² score for the current model\n",
    "            rmse = mean_squared_error(y_test, y_pred_xgb, squared=False)\n",
    "            r2 = r2_score(y_test, y_pred_xgb)\n",
    "            \n",
    "            # Check if the current RMSE is better (lower) than the best RMSE so far\n",
    "            if rmse < best_rmse:\n",
    "                # Update the best RMSE, R² score, and the best parameters\n",
    "                best_rmse = rmse\n",
    "                best_r2 = r2\n",
    "                best_params = {\n",
    "                    'n_estimators': n_estimators, \n",
    "                    'learning_rate': learning_rate, \n",
    "                    'max_depth': max_depth\n",
    "                }\n",
    "\n",
    "# Print the best hyperparameters and corresponding RMSE and R² score\n",
    "print(\"Best Parameters for XGBoost:\", best_params)\n",
    "print(\"Best RMSE for XGBoost:\", best_rmse)\n",
    "print(\"Best R² Score for XGBoost:\", best_r2)"
   ]
  },
  {
   "cell_type": "code",
   "execution_count": null,
   "id": "0983f993-95e7-41df-b3e7-0b8435c76ecc",
   "metadata": {},
   "outputs": [],
   "source": []
  }
 ],
 "metadata": {
  "kernelspec": {
   "display_name": "Python 3 (ipykernel)",
   "language": "python",
   "name": "python3"
  },
  "language_info": {
   "codemirror_mode": {
    "name": "ipython",
    "version": 3
   },
   "file_extension": ".py",
   "mimetype": "text/x-python",
   "name": "python",
   "nbconvert_exporter": "python",
   "pygments_lexer": "ipython3",
   "version": "3.11.7"
  }
 },
 "nbformat": 4,
 "nbformat_minor": 5
}
