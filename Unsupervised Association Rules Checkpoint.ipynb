{
 "cells": [
  {
   "cell_type": "markdown",
   "metadata": {},
   "source": [
    "#### Instructions"
   ]
  },
  {
   "cell_type": "markdown",
   "metadata": {},
   "source": [
    "What You're Aiming For\n",
    "\n",
    "In this checkpoint, we are going to work on 'Customer purchases history' dataset provided by Kaggle\n",
    "\n",
    "Dataset description: This dataset contains historical records for customer purchases from a supermarket X. The objective is to find the association rules to help supermarket owners find new marketing plans to improve their sales.\n",
    "\n",
    "➡️ Dataset link\n",
    "\n",
    "🚧 Each row correspond to one purchase\n",
    "\n",
    "https://i.imgur.com/uYpSaHm.png\n",
    "\n",
    "\n",
    "Instructions\n",
    "\n",
    "toy_dataset = [['Skirt', 'Sneakers', 'Scarf', 'Pants', 'Hat'],\n",
    "\n",
    "        ['Sunglasses', 'Skirt', 'Sneakers', 'Pants', 'Hat'],\n",
    "\n",
    "        ['Dress', 'Sandals', 'Scarf', 'Pants', 'Heels'],\n",
    "\n",
    "        ['Dress', 'Necklace', 'Earrings', 'Scarf', 'Hat', 'Heels', 'Hat'],\n",
    "\n",
    "      ['Earrings', 'Skirt', 'Skirt', 'Scarf', 'Shirt', 'Pants']]\n",
    "\n",
    "Run the apriori algorithm on the provided toy_dataset. Interpret the results.\n",
    "Try to explore the checkpoint dataset using Pandas and Plotly.\n",
    "Run the apriori algorithm on checkpoint dataset. Interpret the results and suggest a clear business plan to the supermarket owners based on your findings."
   ]
  },
  {
   "cell_type": "code",
   "execution_count": 19,
   "metadata": {},
   "outputs": [],
   "source": [
    "# Step 1: Import necessary libraries\n",
    "import pandas as pd\n",
    "from mlxtend.frequent_patterns import apriori, association_rules"
   ]
  },
  {
   "cell_type": "code",
   "execution_count": 16,
   "metadata": {},
   "outputs": [],
   "source": [
    "# Load the dataset\n",
    "file_path = 'Market_Basket_Optimisation.csv'\n",
    "df = pd.read_csv(file_path)"
   ]
  },
  {
   "cell_type": "code",
   "execution_count": 17,
   "metadata": {},
   "outputs": [
    {
     "data": {
      "text/html": [
       "<div>\n",
       "<style scoped>\n",
       "    .dataframe tbody tr th:only-of-type {\n",
       "        vertical-align: middle;\n",
       "    }\n",
       "\n",
       "    .dataframe tbody tr th {\n",
       "        vertical-align: top;\n",
       "    }\n",
       "\n",
       "    .dataframe thead th {\n",
       "        text-align: right;\n",
       "    }\n",
       "</style>\n",
       "<table border=\"1\" class=\"dataframe\">\n",
       "  <thead>\n",
       "    <tr style=\"text-align: right;\">\n",
       "      <th></th>\n",
       "      <th>shrimp</th>\n",
       "      <th>almonds</th>\n",
       "      <th>avocado</th>\n",
       "      <th>vegetables mix</th>\n",
       "      <th>green grapes</th>\n",
       "      <th>whole weat flour</th>\n",
       "      <th>yams</th>\n",
       "      <th>cottage cheese</th>\n",
       "      <th>energy drink</th>\n",
       "      <th>tomato juice</th>\n",
       "      <th>low fat yogurt</th>\n",
       "      <th>green tea</th>\n",
       "      <th>honey</th>\n",
       "      <th>salad</th>\n",
       "      <th>mineral water</th>\n",
       "      <th>salmon</th>\n",
       "      <th>antioxydant juice</th>\n",
       "      <th>frozen smoothie</th>\n",
       "      <th>spinach</th>\n",
       "      <th>olive oil</th>\n",
       "    </tr>\n",
       "  </thead>\n",
       "  <tbody>\n",
       "    <tr>\n",
       "      <th>0</th>\n",
       "      <td>burgers</td>\n",
       "      <td>meatballs</td>\n",
       "      <td>eggs</td>\n",
       "      <td>NaN</td>\n",
       "      <td>NaN</td>\n",
       "      <td>NaN</td>\n",
       "      <td>NaN</td>\n",
       "      <td>NaN</td>\n",
       "      <td>NaN</td>\n",
       "      <td>NaN</td>\n",
       "      <td>NaN</td>\n",
       "      <td>NaN</td>\n",
       "      <td>NaN</td>\n",
       "      <td>NaN</td>\n",
       "      <td>NaN</td>\n",
       "      <td>NaN</td>\n",
       "      <td>NaN</td>\n",
       "      <td>NaN</td>\n",
       "      <td>NaN</td>\n",
       "      <td>NaN</td>\n",
       "    </tr>\n",
       "    <tr>\n",
       "      <th>1</th>\n",
       "      <td>chutney</td>\n",
       "      <td>NaN</td>\n",
       "      <td>NaN</td>\n",
       "      <td>NaN</td>\n",
       "      <td>NaN</td>\n",
       "      <td>NaN</td>\n",
       "      <td>NaN</td>\n",
       "      <td>NaN</td>\n",
       "      <td>NaN</td>\n",
       "      <td>NaN</td>\n",
       "      <td>NaN</td>\n",
       "      <td>NaN</td>\n",
       "      <td>NaN</td>\n",
       "      <td>NaN</td>\n",
       "      <td>NaN</td>\n",
       "      <td>NaN</td>\n",
       "      <td>NaN</td>\n",
       "      <td>NaN</td>\n",
       "      <td>NaN</td>\n",
       "      <td>NaN</td>\n",
       "    </tr>\n",
       "    <tr>\n",
       "      <th>2</th>\n",
       "      <td>turkey</td>\n",
       "      <td>avocado</td>\n",
       "      <td>NaN</td>\n",
       "      <td>NaN</td>\n",
       "      <td>NaN</td>\n",
       "      <td>NaN</td>\n",
       "      <td>NaN</td>\n",
       "      <td>NaN</td>\n",
       "      <td>NaN</td>\n",
       "      <td>NaN</td>\n",
       "      <td>NaN</td>\n",
       "      <td>NaN</td>\n",
       "      <td>NaN</td>\n",
       "      <td>NaN</td>\n",
       "      <td>NaN</td>\n",
       "      <td>NaN</td>\n",
       "      <td>NaN</td>\n",
       "      <td>NaN</td>\n",
       "      <td>NaN</td>\n",
       "      <td>NaN</td>\n",
       "    </tr>\n",
       "    <tr>\n",
       "      <th>3</th>\n",
       "      <td>mineral water</td>\n",
       "      <td>milk</td>\n",
       "      <td>energy bar</td>\n",
       "      <td>whole wheat rice</td>\n",
       "      <td>green tea</td>\n",
       "      <td>NaN</td>\n",
       "      <td>NaN</td>\n",
       "      <td>NaN</td>\n",
       "      <td>NaN</td>\n",
       "      <td>NaN</td>\n",
       "      <td>NaN</td>\n",
       "      <td>NaN</td>\n",
       "      <td>NaN</td>\n",
       "      <td>NaN</td>\n",
       "      <td>NaN</td>\n",
       "      <td>NaN</td>\n",
       "      <td>NaN</td>\n",
       "      <td>NaN</td>\n",
       "      <td>NaN</td>\n",
       "      <td>NaN</td>\n",
       "    </tr>\n",
       "    <tr>\n",
       "      <th>4</th>\n",
       "      <td>low fat yogurt</td>\n",
       "      <td>NaN</td>\n",
       "      <td>NaN</td>\n",
       "      <td>NaN</td>\n",
       "      <td>NaN</td>\n",
       "      <td>NaN</td>\n",
       "      <td>NaN</td>\n",
       "      <td>NaN</td>\n",
       "      <td>NaN</td>\n",
       "      <td>NaN</td>\n",
       "      <td>NaN</td>\n",
       "      <td>NaN</td>\n",
       "      <td>NaN</td>\n",
       "      <td>NaN</td>\n",
       "      <td>NaN</td>\n",
       "      <td>NaN</td>\n",
       "      <td>NaN</td>\n",
       "      <td>NaN</td>\n",
       "      <td>NaN</td>\n",
       "      <td>NaN</td>\n",
       "    </tr>\n",
       "  </tbody>\n",
       "</table>\n",
       "</div>"
      ],
      "text/plain": [
       "           shrimp    almonds     avocado    vegetables mix green grapes  \\\n",
       "0         burgers  meatballs        eggs               NaN          NaN   \n",
       "1         chutney        NaN         NaN               NaN          NaN   \n",
       "2          turkey    avocado         NaN               NaN          NaN   \n",
       "3   mineral water       milk  energy bar  whole wheat rice    green tea   \n",
       "4  low fat yogurt        NaN         NaN               NaN          NaN   \n",
       "\n",
       "  whole weat flour yams cottage cheese energy drink tomato juice  \\\n",
       "0              NaN  NaN            NaN          NaN          NaN   \n",
       "1              NaN  NaN            NaN          NaN          NaN   \n",
       "2              NaN  NaN            NaN          NaN          NaN   \n",
       "3              NaN  NaN            NaN          NaN          NaN   \n",
       "4              NaN  NaN            NaN          NaN          NaN   \n",
       "\n",
       "  low fat yogurt green tea honey salad mineral water salmon antioxydant juice  \\\n",
       "0            NaN       NaN   NaN   NaN           NaN    NaN               NaN   \n",
       "1            NaN       NaN   NaN   NaN           NaN    NaN               NaN   \n",
       "2            NaN       NaN   NaN   NaN           NaN    NaN               NaN   \n",
       "3            NaN       NaN   NaN   NaN           NaN    NaN               NaN   \n",
       "4            NaN       NaN   NaN   NaN           NaN    NaN               NaN   \n",
       "\n",
       "  frozen smoothie spinach  olive oil  \n",
       "0             NaN     NaN        NaN  \n",
       "1             NaN     NaN        NaN  \n",
       "2             NaN     NaN        NaN  \n",
       "3             NaN     NaN        NaN  \n",
       "4             NaN     NaN        NaN  "
      ]
     },
     "execution_count": 17,
     "metadata": {},
     "output_type": "execute_result"
    }
   ],
   "source": [
    "# Show the first few rows of the dataset to understand its structure\n",
    "df.head()"
   ]
  },
  {
   "cell_type": "code",
   "execution_count": 18,
   "metadata": {},
   "outputs": [
    {
     "data": {
      "text/plain": [
       "(7500, 20)"
      ]
     },
     "execution_count": 18,
     "metadata": {},
     "output_type": "execute_result"
    }
   ],
   "source": [
    "df.shape"
   ]
  },
  {
   "cell_type": "code",
   "execution_count": 20,
   "metadata": {},
   "outputs": [],
   "source": [
    "# Step 2: Prepare the toy dataset\n",
    "toy_dataset = [['Skirt', 'Sneakers', 'Scarf', 'Pants', 'Hat'],\n",
    "               ['Sunglasses', 'Skirt', 'Sneakers', 'Pants', 'Hat'],\n",
    "               ['Dress', 'Sandals', 'Scarf', 'Pants', 'Heels'],\n",
    "               ['Dress', 'Necklace', 'Earrings', 'Scarf', 'Hat', 'Heels'],\n",
    "               ['Earrings', 'Skirt', 'Skirt', 'Scarf', 'Shirt', 'Pants']]\n"
   ]
  },
  {
   "cell_type": "code",
   "execution_count": 21,
   "metadata": {},
   "outputs": [],
   "source": [
    "# Convert toy dataset to a DataFrame of one-hot encoding (binary matrix)\n",
    "from mlxtend.preprocessing import TransactionEncoder\n",
    "te = TransactionEncoder()\n",
    "te_ary = te.fit(toy_dataset).transform(toy_dataset)\n",
    "df = pd.DataFrame(te_ary, columns=te.columns_)"
   ]
  },
  {
   "cell_type": "code",
   "execution_count": 22,
   "metadata": {},
   "outputs": [],
   "source": [
    "# Step 3: Apply the Apriori algorithm\n",
    "frequent_itemsets = apriori(df, min_support=0.6, use_colnames=True)"
   ]
  },
  {
   "cell_type": "code",
   "execution_count": 23,
   "metadata": {},
   "outputs": [],
   "source": [
    "# Step 4: Generate association rules\n",
    "rules = association_rules(frequent_itemsets, metric=\"lift\", min_threshold=1)"
   ]
  },
  {
   "cell_type": "code",
   "execution_count": 24,
   "metadata": {},
   "outputs": [
    {
     "name": "stdout",
     "output_type": "stream",
     "text": [
      "   support        itemsets\n",
      "0      0.6           (Hat)\n",
      "1      0.8         (Pants)\n",
      "2      0.8         (Scarf)\n",
      "3      0.6         (Skirt)\n",
      "4      0.6  (Pants, Scarf)\n",
      "5      0.6  (Pants, Skirt)\n",
      "  antecedents consequents  antecedent support  consequent support  support  \\\n",
      "0     (Pants)     (Skirt)                 0.8                 0.6      0.6   \n",
      "1     (Skirt)     (Pants)                 0.6                 0.8      0.6   \n",
      "\n",
      "   confidence  lift  leverage  conviction  zhangs_metric  \n",
      "0        0.75  1.25      0.12         1.6            1.0  \n",
      "1        1.00  1.25      0.12         inf            0.5  \n"
     ]
    }
   ],
   "source": [
    "# Display the results\n",
    "print(frequent_itemsets)\n",
    "print(rules)"
   ]
  },
  {
   "cell_type": "code",
   "execution_count": 25,
   "metadata": {},
   "outputs": [],
   "source": [
    "# Assuming the dataset is in CSV format (adjust if it's a different format)\n",
    "data = pd.read_csv('Market_Basket_Optimisation.csv')"
   ]
  },
  {
   "cell_type": "code",
   "execution_count": 26,
   "metadata": {},
   "outputs": [
    {
     "name": "stdout",
     "output_type": "stream",
     "text": [
      "           shrimp    almonds     avocado    vegetables mix green grapes  \\\n",
      "0         burgers  meatballs        eggs               NaN          NaN   \n",
      "1         chutney        NaN         NaN               NaN          NaN   \n",
      "2          turkey    avocado         NaN               NaN          NaN   \n",
      "3   mineral water       milk  energy bar  whole wheat rice    green tea   \n",
      "4  low fat yogurt        NaN         NaN               NaN          NaN   \n",
      "\n",
      "  whole weat flour yams cottage cheese energy drink tomato juice  \\\n",
      "0              NaN  NaN            NaN          NaN          NaN   \n",
      "1              NaN  NaN            NaN          NaN          NaN   \n",
      "2              NaN  NaN            NaN          NaN          NaN   \n",
      "3              NaN  NaN            NaN          NaN          NaN   \n",
      "4              NaN  NaN            NaN          NaN          NaN   \n",
      "\n",
      "  low fat yogurt green tea honey salad mineral water salmon antioxydant juice  \\\n",
      "0            NaN       NaN   NaN   NaN           NaN    NaN               NaN   \n",
      "1            NaN       NaN   NaN   NaN           NaN    NaN               NaN   \n",
      "2            NaN       NaN   NaN   NaN           NaN    NaN               NaN   \n",
      "3            NaN       NaN   NaN   NaN           NaN    NaN               NaN   \n",
      "4            NaN       NaN   NaN   NaN           NaN    NaN               NaN   \n",
      "\n",
      "  frozen smoothie spinach  olive oil  \n",
      "0             NaN     NaN        NaN  \n",
      "1             NaN     NaN        NaN  \n",
      "2             NaN     NaN        NaN  \n",
      "3             NaN     NaN        NaN  \n",
      "4             NaN     NaN        NaN  \n",
      "<class 'pandas.core.frame.DataFrame'>\n",
      "RangeIndex: 7500 entries, 0 to 7499\n",
      "Data columns (total 20 columns):\n",
      " #   Column             Non-Null Count  Dtype  \n",
      "---  ------             --------------  -----  \n",
      " 0   shrimp             7500 non-null   object \n",
      " 1   almonds            5746 non-null   object \n",
      " 2   avocado            4388 non-null   object \n",
      " 3   vegetables mix     3344 non-null   object \n",
      " 4   green grapes       2528 non-null   object \n",
      " 5   whole weat flour   1863 non-null   object \n",
      " 6   yams               1368 non-null   object \n",
      " 7   cottage cheese     980 non-null    object \n",
      " 8   energy drink       653 non-null    object \n",
      " 9   tomato juice       394 non-null    object \n",
      " 10  low fat yogurt     255 non-null    object \n",
      " 11  green tea          153 non-null    object \n",
      " 12  honey              86 non-null     object \n",
      " 13  salad              46 non-null     object \n",
      " 14  mineral water      24 non-null     object \n",
      " 15  salmon             7 non-null      object \n",
      " 16  antioxydant juice  3 non-null      object \n",
      " 17  frozen smoothie    3 non-null      object \n",
      " 18  spinach            2 non-null      object \n",
      " 19  olive oil          0 non-null      float64\n",
      "dtypes: float64(1), object(19)\n",
      "memory usage: 1.1+ MB\n",
      "None\n"
     ]
    }
   ],
   "source": [
    "# Step 2: Explore the dataset\n",
    "print(data.head())\n",
    "print(data.info())\n"
   ]
  },
  {
   "cell_type": "code",
   "execution_count": 27,
   "metadata": {},
   "outputs": [
    {
     "name": "stderr",
     "output_type": "stream",
     "text": [
      "c:\\Users\\HARDEY\\anaconda3\\Lib\\site-packages\\plotly\\express\\imshow_utils.py:24: DeprecationWarning: `np.bool8` is a deprecated alias for `np.bool_`.  (Deprecated NumPy 1.24)\n",
      "  np.bool8: (False, True),\n",
      "c:\\Users\\HARDEY\\anaconda3\\Lib\\site-packages\\plotly\\io\\_renderers.py:395: DeprecationWarning:\n",
      "\n",
      "distutils Version classes are deprecated. Use packaging.version instead.\n",
      "\n",
      "c:\\Users\\HARDEY\\anaconda3\\Lib\\site-packages\\plotly\\io\\_renderers.py:395: DeprecationWarning:\n",
      "\n",
      "distutils Version classes are deprecated. Use packaging.version instead.\n",
      "\n"
     ]
    },
    {
     "data": {
      "application/vnd.plotly.v1+json": {
       "config": {
        "plotlyServerURL": "https://plot.ly"
       },
       "data": [
        {
         "alignmentgroup": "True",
         "hovertemplate": "x=%{x}<br>y=%{y}<extra></extra>",
         "legendgroup": "",
         "marker": {
          "color": "#636efa",
          "pattern": {
           "shape": ""
          }
         },
         "name": "",
         "offsetgroup": "",
         "orientation": "v",
         "showlegend": false,
         "textposition": "auto",
         "type": "bar",
         "x": [
          "mineral water",
          "eggs",
          "spaghetti",
          "french fries",
          "chocolate",
          "green tea",
          "milk",
          "ground beef",
          "frozen vegetables",
          "pancakes",
          "burgers",
          "cake",
          "cookies",
          "escalope",
          "low fat yogurt",
          "shrimp",
          "tomatoes",
          "olive oil",
          "frozen smoothie",
          "turkey",
          "chicken",
          "whole wheat rice",
          "grated cheese",
          "cooking oil",
          "soup",
          "herb & pepper",
          "honey",
          "champagne",
          "fresh bread",
          "salmon",
          "brownies",
          "avocado",
          "hot dogs",
          "cottage cheese",
          "tomato juice",
          "butter",
          "whole wheat pasta",
          "red wine",
          "yogurt cake",
          "light mayo",
          "energy bar",
          "ham",
          "pepper",
          "energy drink",
          "cereals",
          "vegetables mix",
          "muffins",
          "oil",
          "french wine",
          "fresh tuna",
          "strawberries",
          "meatballs",
          "almonds",
          "parmesan cheese",
          "mushroom cream sauce",
          "rice",
          "protein bar",
          "mint",
          "white wine",
          "pasta",
          "light cream",
          "carrots",
          "black tea",
          "tomato sauce",
          "fromage blanc",
          "gums",
          "eggplant",
          "melons",
          "extra dark chocolate",
          "body spray",
          "yams",
          "magazines",
          "barbecue sauce",
          "cider",
          "nonfat milk",
          "candy bars",
          "zucchini",
          "salt",
          "blueberries",
          "whole weat flour",
          "flax seed",
          "green grapes",
          "antioxydant juice",
          "bacon",
          "green beans",
          "bug spray",
          "clothes accessories",
          "toothpaste",
          "strong cheese",
          "shallot",
          "spinach",
          "gluten free bar",
          "pet food",
          "sparkling water",
          "soda",
          "mayonnaise",
          "chili",
          "pickles",
          "burger sauce",
          "mint green tea",
          "hand protein bar",
          "shampoo",
          "cauliflower",
          "salad",
          "corn",
          "asparagus",
          "sandwich",
          "babies food",
          "dessert wine",
          "ketchup",
          "oatmeal",
          "chocolate bread",
          "mashed potato",
          "chutney",
          "tea",
          "bramble",
          "cream",
          "napkins",
          "water spray",
          " asparagus"
         ],
         "xaxis": "x",
         "y": [
          1787,
          1348,
          1306,
          1282,
          1230,
          990,
          972,
          737,
          715,
          713,
          654,
          608,
          603,
          595,
          573,
          535,
          513,
          493,
          474,
          469,
          450,
          439,
          393,
          383,
          379,
          371,
          355,
          351,
          323,
          318,
          253,
          249,
          243,
          238,
          227,
          226,
          221,
          211,
          205,
          204,
          203,
          203,
          199,
          199,
          193,
          192,
          181,
          173,
          169,
          167,
          160,
          157,
          152,
          149,
          143,
          141,
          139,
          131,
          124,
          118,
          117,
          115,
          107,
          106,
          102,
          101,
          99,
          90,
          90,
          86,
          85,
          82,
          81,
          79,
          78,
          73,
          71,
          69,
          69,
          69,
          68,
          67,
          66,
          65,
          65,
          65,
          63,
          61,
          58,
          58,
          52,
          52,
          49,
          47,
          47,
          46,
          46,
          45,
          44,
          42,
          39,
          37,
          36,
          36,
          36,
          35,
          34,
          34,
          33,
          33,
          33,
          32,
          31,
          31,
          29,
          14,
          7,
          5,
          3,
          1
         ],
         "yaxis": "y"
        }
       ],
       "layout": {
        "barmode": "relative",
        "legend": {
         "tracegroupgap": 0
        },
        "template": {
         "data": {
          "bar": [
           {
            "error_x": {
             "color": "#2a3f5f"
            },
            "error_y": {
             "color": "#2a3f5f"
            },
            "marker": {
             "line": {
              "color": "#E5ECF6",
              "width": 0.5
             },
             "pattern": {
              "fillmode": "overlay",
              "size": 10,
              "solidity": 0.2
             }
            },
            "type": "bar"
           }
          ],
          "barpolar": [
           {
            "marker": {
             "line": {
              "color": "#E5ECF6",
              "width": 0.5
             },
             "pattern": {
              "fillmode": "overlay",
              "size": 10,
              "solidity": 0.2
             }
            },
            "type": "barpolar"
           }
          ],
          "carpet": [
           {
            "aaxis": {
             "endlinecolor": "#2a3f5f",
             "gridcolor": "white",
             "linecolor": "white",
             "minorgridcolor": "white",
             "startlinecolor": "#2a3f5f"
            },
            "baxis": {
             "endlinecolor": "#2a3f5f",
             "gridcolor": "white",
             "linecolor": "white",
             "minorgridcolor": "white",
             "startlinecolor": "#2a3f5f"
            },
            "type": "carpet"
           }
          ],
          "choropleth": [
           {
            "colorbar": {
             "outlinewidth": 0,
             "ticks": ""
            },
            "type": "choropleth"
           }
          ],
          "contour": [
           {
            "colorbar": {
             "outlinewidth": 0,
             "ticks": ""
            },
            "colorscale": [
             [
              0,
              "#0d0887"
             ],
             [
              0.1111111111111111,
              "#46039f"
             ],
             [
              0.2222222222222222,
              "#7201a8"
             ],
             [
              0.3333333333333333,
              "#9c179e"
             ],
             [
              0.4444444444444444,
              "#bd3786"
             ],
             [
              0.5555555555555556,
              "#d8576b"
             ],
             [
              0.6666666666666666,
              "#ed7953"
             ],
             [
              0.7777777777777778,
              "#fb9f3a"
             ],
             [
              0.8888888888888888,
              "#fdca26"
             ],
             [
              1,
              "#f0f921"
             ]
            ],
            "type": "contour"
           }
          ],
          "contourcarpet": [
           {
            "colorbar": {
             "outlinewidth": 0,
             "ticks": ""
            },
            "type": "contourcarpet"
           }
          ],
          "heatmap": [
           {
            "colorbar": {
             "outlinewidth": 0,
             "ticks": ""
            },
            "colorscale": [
             [
              0,
              "#0d0887"
             ],
             [
              0.1111111111111111,
              "#46039f"
             ],
             [
              0.2222222222222222,
              "#7201a8"
             ],
             [
              0.3333333333333333,
              "#9c179e"
             ],
             [
              0.4444444444444444,
              "#bd3786"
             ],
             [
              0.5555555555555556,
              "#d8576b"
             ],
             [
              0.6666666666666666,
              "#ed7953"
             ],
             [
              0.7777777777777778,
              "#fb9f3a"
             ],
             [
              0.8888888888888888,
              "#fdca26"
             ],
             [
              1,
              "#f0f921"
             ]
            ],
            "type": "heatmap"
           }
          ],
          "heatmapgl": [
           {
            "colorbar": {
             "outlinewidth": 0,
             "ticks": ""
            },
            "colorscale": [
             [
              0,
              "#0d0887"
             ],
             [
              0.1111111111111111,
              "#46039f"
             ],
             [
              0.2222222222222222,
              "#7201a8"
             ],
             [
              0.3333333333333333,
              "#9c179e"
             ],
             [
              0.4444444444444444,
              "#bd3786"
             ],
             [
              0.5555555555555556,
              "#d8576b"
             ],
             [
              0.6666666666666666,
              "#ed7953"
             ],
             [
              0.7777777777777778,
              "#fb9f3a"
             ],
             [
              0.8888888888888888,
              "#fdca26"
             ],
             [
              1,
              "#f0f921"
             ]
            ],
            "type": "heatmapgl"
           }
          ],
          "histogram": [
           {
            "marker": {
             "pattern": {
              "fillmode": "overlay",
              "size": 10,
              "solidity": 0.2
             }
            },
            "type": "histogram"
           }
          ],
          "histogram2d": [
           {
            "colorbar": {
             "outlinewidth": 0,
             "ticks": ""
            },
            "colorscale": [
             [
              0,
              "#0d0887"
             ],
             [
              0.1111111111111111,
              "#46039f"
             ],
             [
              0.2222222222222222,
              "#7201a8"
             ],
             [
              0.3333333333333333,
              "#9c179e"
             ],
             [
              0.4444444444444444,
              "#bd3786"
             ],
             [
              0.5555555555555556,
              "#d8576b"
             ],
             [
              0.6666666666666666,
              "#ed7953"
             ],
             [
              0.7777777777777778,
              "#fb9f3a"
             ],
             [
              0.8888888888888888,
              "#fdca26"
             ],
             [
              1,
              "#f0f921"
             ]
            ],
            "type": "histogram2d"
           }
          ],
          "histogram2dcontour": [
           {
            "colorbar": {
             "outlinewidth": 0,
             "ticks": ""
            },
            "colorscale": [
             [
              0,
              "#0d0887"
             ],
             [
              0.1111111111111111,
              "#46039f"
             ],
             [
              0.2222222222222222,
              "#7201a8"
             ],
             [
              0.3333333333333333,
              "#9c179e"
             ],
             [
              0.4444444444444444,
              "#bd3786"
             ],
             [
              0.5555555555555556,
              "#d8576b"
             ],
             [
              0.6666666666666666,
              "#ed7953"
             ],
             [
              0.7777777777777778,
              "#fb9f3a"
             ],
             [
              0.8888888888888888,
              "#fdca26"
             ],
             [
              1,
              "#f0f921"
             ]
            ],
            "type": "histogram2dcontour"
           }
          ],
          "mesh3d": [
           {
            "colorbar": {
             "outlinewidth": 0,
             "ticks": ""
            },
            "type": "mesh3d"
           }
          ],
          "parcoords": [
           {
            "line": {
             "colorbar": {
              "outlinewidth": 0,
              "ticks": ""
             }
            },
            "type": "parcoords"
           }
          ],
          "pie": [
           {
            "automargin": true,
            "type": "pie"
           }
          ],
          "scatter": [
           {
            "fillpattern": {
             "fillmode": "overlay",
             "size": 10,
             "solidity": 0.2
            },
            "type": "scatter"
           }
          ],
          "scatter3d": [
           {
            "line": {
             "colorbar": {
              "outlinewidth": 0,
              "ticks": ""
             }
            },
            "marker": {
             "colorbar": {
              "outlinewidth": 0,
              "ticks": ""
             }
            },
            "type": "scatter3d"
           }
          ],
          "scattercarpet": [
           {
            "marker": {
             "colorbar": {
              "outlinewidth": 0,
              "ticks": ""
             }
            },
            "type": "scattercarpet"
           }
          ],
          "scattergeo": [
           {
            "marker": {
             "colorbar": {
              "outlinewidth": 0,
              "ticks": ""
             }
            },
            "type": "scattergeo"
           }
          ],
          "scattergl": [
           {
            "marker": {
             "colorbar": {
              "outlinewidth": 0,
              "ticks": ""
             }
            },
            "type": "scattergl"
           }
          ],
          "scattermapbox": [
           {
            "marker": {
             "colorbar": {
              "outlinewidth": 0,
              "ticks": ""
             }
            },
            "type": "scattermapbox"
           }
          ],
          "scatterpolar": [
           {
            "marker": {
             "colorbar": {
              "outlinewidth": 0,
              "ticks": ""
             }
            },
            "type": "scatterpolar"
           }
          ],
          "scatterpolargl": [
           {
            "marker": {
             "colorbar": {
              "outlinewidth": 0,
              "ticks": ""
             }
            },
            "type": "scatterpolargl"
           }
          ],
          "scatterternary": [
           {
            "marker": {
             "colorbar": {
              "outlinewidth": 0,
              "ticks": ""
             }
            },
            "type": "scatterternary"
           }
          ],
          "surface": [
           {
            "colorbar": {
             "outlinewidth": 0,
             "ticks": ""
            },
            "colorscale": [
             [
              0,
              "#0d0887"
             ],
             [
              0.1111111111111111,
              "#46039f"
             ],
             [
              0.2222222222222222,
              "#7201a8"
             ],
             [
              0.3333333333333333,
              "#9c179e"
             ],
             [
              0.4444444444444444,
              "#bd3786"
             ],
             [
              0.5555555555555556,
              "#d8576b"
             ],
             [
              0.6666666666666666,
              "#ed7953"
             ],
             [
              0.7777777777777778,
              "#fb9f3a"
             ],
             [
              0.8888888888888888,
              "#fdca26"
             ],
             [
              1,
              "#f0f921"
             ]
            ],
            "type": "surface"
           }
          ],
          "table": [
           {
            "cells": {
             "fill": {
              "color": "#EBF0F8"
             },
             "line": {
              "color": "white"
             }
            },
            "header": {
             "fill": {
              "color": "#C8D4E3"
             },
             "line": {
              "color": "white"
             }
            },
            "type": "table"
           }
          ]
         },
         "layout": {
          "annotationdefaults": {
           "arrowcolor": "#2a3f5f",
           "arrowhead": 0,
           "arrowwidth": 1
          },
          "autotypenumbers": "strict",
          "coloraxis": {
           "colorbar": {
            "outlinewidth": 0,
            "ticks": ""
           }
          },
          "colorscale": {
           "diverging": [
            [
             0,
             "#8e0152"
            ],
            [
             0.1,
             "#c51b7d"
            ],
            [
             0.2,
             "#de77ae"
            ],
            [
             0.3,
             "#f1b6da"
            ],
            [
             0.4,
             "#fde0ef"
            ],
            [
             0.5,
             "#f7f7f7"
            ],
            [
             0.6,
             "#e6f5d0"
            ],
            [
             0.7,
             "#b8e186"
            ],
            [
             0.8,
             "#7fbc41"
            ],
            [
             0.9,
             "#4d9221"
            ],
            [
             1,
             "#276419"
            ]
           ],
           "sequential": [
            [
             0,
             "#0d0887"
            ],
            [
             0.1111111111111111,
             "#46039f"
            ],
            [
             0.2222222222222222,
             "#7201a8"
            ],
            [
             0.3333333333333333,
             "#9c179e"
            ],
            [
             0.4444444444444444,
             "#bd3786"
            ],
            [
             0.5555555555555556,
             "#d8576b"
            ],
            [
             0.6666666666666666,
             "#ed7953"
            ],
            [
             0.7777777777777778,
             "#fb9f3a"
            ],
            [
             0.8888888888888888,
             "#fdca26"
            ],
            [
             1,
             "#f0f921"
            ]
           ],
           "sequentialminus": [
            [
             0,
             "#0d0887"
            ],
            [
             0.1111111111111111,
             "#46039f"
            ],
            [
             0.2222222222222222,
             "#7201a8"
            ],
            [
             0.3333333333333333,
             "#9c179e"
            ],
            [
             0.4444444444444444,
             "#bd3786"
            ],
            [
             0.5555555555555556,
             "#d8576b"
            ],
            [
             0.6666666666666666,
             "#ed7953"
            ],
            [
             0.7777777777777778,
             "#fb9f3a"
            ],
            [
             0.8888888888888888,
             "#fdca26"
            ],
            [
             1,
             "#f0f921"
            ]
           ]
          },
          "colorway": [
           "#636efa",
           "#EF553B",
           "#00cc96",
           "#ab63fa",
           "#FFA15A",
           "#19d3f3",
           "#FF6692",
           "#B6E880",
           "#FF97FF",
           "#FECB52"
          ],
          "font": {
           "color": "#2a3f5f"
          },
          "geo": {
           "bgcolor": "white",
           "lakecolor": "white",
           "landcolor": "#E5ECF6",
           "showlakes": true,
           "showland": true,
           "subunitcolor": "white"
          },
          "hoverlabel": {
           "align": "left"
          },
          "hovermode": "closest",
          "mapbox": {
           "style": "light"
          },
          "paper_bgcolor": "white",
          "plot_bgcolor": "#E5ECF6",
          "polar": {
           "angularaxis": {
            "gridcolor": "white",
            "linecolor": "white",
            "ticks": ""
           },
           "bgcolor": "#E5ECF6",
           "radialaxis": {
            "gridcolor": "white",
            "linecolor": "white",
            "ticks": ""
           }
          },
          "scene": {
           "xaxis": {
            "backgroundcolor": "#E5ECF6",
            "gridcolor": "white",
            "gridwidth": 2,
            "linecolor": "white",
            "showbackground": true,
            "ticks": "",
            "zerolinecolor": "white"
           },
           "yaxis": {
            "backgroundcolor": "#E5ECF6",
            "gridcolor": "white",
            "gridwidth": 2,
            "linecolor": "white",
            "showbackground": true,
            "ticks": "",
            "zerolinecolor": "white"
           },
           "zaxis": {
            "backgroundcolor": "#E5ECF6",
            "gridcolor": "white",
            "gridwidth": 2,
            "linecolor": "white",
            "showbackground": true,
            "ticks": "",
            "zerolinecolor": "white"
           }
          },
          "shapedefaults": {
           "line": {
            "color": "#2a3f5f"
           }
          },
          "ternary": {
           "aaxis": {
            "gridcolor": "white",
            "linecolor": "white",
            "ticks": ""
           },
           "baxis": {
            "gridcolor": "white",
            "linecolor": "white",
            "ticks": ""
           },
           "bgcolor": "#E5ECF6",
           "caxis": {
            "gridcolor": "white",
            "linecolor": "white",
            "ticks": ""
           }
          },
          "title": {
           "x": 0.05
          },
          "xaxis": {
           "automargin": true,
           "gridcolor": "white",
           "linecolor": "white",
           "ticks": "",
           "title": {
            "standoff": 15
           },
           "zerolinecolor": "white",
           "zerolinewidth": 2
          },
          "yaxis": {
           "automargin": true,
           "gridcolor": "white",
           "linecolor": "white",
           "ticks": "",
           "title": {
            "standoff": 15
           },
           "zerolinecolor": "white",
           "zerolinewidth": 2
          }
         }
        },
        "title": {
         "text": "Top 10 Most Purchased Products"
        },
        "xaxis": {
         "anchor": "y",
         "domain": [
          0,
          1
         ],
         "title": {
          "text": "x"
         }
        },
        "yaxis": {
         "anchor": "x",
         "domain": [
          0,
          1
         ],
         "title": {
          "text": "y"
         }
        }
       }
      }
     },
     "metadata": {},
     "output_type": "display_data"
    }
   ],
   "source": [
    "# Since each row is a transaction, we can flatten the dataset to count product occurrences\n",
    "all_products = data.stack().reset_index(drop=True)  # Stack to convert to a single column of products\n",
    "\n",
    "# Drop any NaN values that might exist in the dataset\n",
    "all_products = all_products.dropna()\n",
    "\n",
    "# Step 3: Visualize basic patterns\n",
    "import plotly.express as px\n",
    "\n",
    "# Example: Count of purchases for each product\n",
    "product_counts = all_products.value_counts()\n",
    "fig = px.bar(product_counts[:10], x=product_counts.index, y=product_counts.values, title=\"Top 10 Most Purchased Products\")\n",
    "fig.show()"
   ]
  },
  {
   "cell_type": "code",
   "execution_count": 28,
   "metadata": {},
   "outputs": [
    {
     "data": {
      "image/png": "[encoded data removed]",
      "text/plain": [
       "<Figure size 1200x1000 with 2 Axes>"
      ]
     },
     "metadata": {},
     "output_type": "display_data"
    }
   ],
   "source": [
    "# Example: Correlation heatmap for co-purchased items\n",
    "# Since we don't have 'TransactionID' explicitly, we'll create a pivot table for co-occurrences.\n",
    "\n",
    "import seaborn as sns\n",
    "import matplotlib.pyplot as plt\n",
    "\n",
    "# Create a co-occurrence matrix\n",
    "# Pivoting over each transaction to check co-occurrence of items\n",
    "from mlxtend.preprocessing import TransactionEncoder\n",
    "\n",
    "# Step 4: Convert transactions into a list of lists for co-occurrence\n",
    "transactions = data.apply(lambda row: row.dropna().tolist(), axis=1).tolist()\n",
    "\n",
    "# Use TransactionEncoder to encode the transactions into a one-hot format\n",
    "te = TransactionEncoder()\n",
    "te_ary = te.fit(transactions).transform(transactions)\n",
    "df_onehot = pd.DataFrame(te_ary, columns=te.columns_)\n",
    "\n",
    "# Calculate the correlation matrix\n",
    "corr_matrix = df_onehot.corr()\n",
    "\n",
    "# Step 5: Visualize the correlation heatmap\n",
    "plt.figure(figsize=(12, 10))\n",
    "sns.heatmap(corr_matrix, annot=False, cmap=\"coolwarm\")\n",
    "plt.title(\"Correlation between Products\")\n",
    "plt.show()"
   ]
  },
  {
   "cell_type": "code",
   "execution_count": 29,
   "metadata": {},
   "outputs": [
    {
     "name": "stdout",
     "output_type": "stream",
     "text": [
      "Frequent Itemsets:\n",
      "      support                    itemsets\n",
      "0   0.087200                   (burgers)\n",
      "1   0.081067                      (cake)\n",
      "2   0.060000                   (chicken)\n",
      "3   0.163867                 (chocolate)\n",
      "4   0.080400                   (cookies)\n",
      "5   0.051067               (cooking oil)\n",
      "6   0.179733                      (eggs)\n",
      "7   0.079333                  (escalope)\n",
      "8   0.170933              (french fries)\n",
      "9   0.063200           (frozen smoothie)\n",
      "10  0.095333         (frozen vegetables)\n",
      "11  0.052400             (grated cheese)\n",
      "12  0.132000                 (green tea)\n",
      "13  0.098267               (ground beef)\n",
      "14  0.076400            (low fat yogurt)\n",
      "15  0.129600                      (milk)\n",
      "16  0.238267             (mineral water)\n",
      "17  0.065733                 (olive oil)\n",
      "18  0.095067                  (pancakes)\n",
      "19  0.071333                    (shrimp)\n",
      "20  0.050533                      (soup)\n",
      "21  0.174133                 (spaghetti)\n",
      "22  0.068400                  (tomatoes)\n",
      "23  0.062533                    (turkey)\n",
      "24  0.058533          (whole wheat rice)\n",
      "25  0.052667  (chocolate, mineral water)\n",
      "26  0.050933       (eggs, mineral water)\n",
      "27  0.059733  (mineral water, spaghetti)\n",
      "\n",
      "Association Rules:\n",
      "        antecedents      consequents  antecedent support  consequent support  \\\n",
      "0      (chocolate)  (mineral water)            0.163867            0.238267   \n",
      "1  (mineral water)      (chocolate)            0.238267            0.163867   \n",
      "2           (eggs)  (mineral water)            0.179733            0.238267   \n",
      "3  (mineral water)           (eggs)            0.238267            0.179733   \n",
      "4  (mineral water)      (spaghetti)            0.238267            0.174133   \n",
      "5      (spaghetti)  (mineral water)            0.174133            0.238267   \n",
      "\n",
      "    support  confidence      lift  leverage  conviction  zhangs_metric  \n",
      "0  0.052667    0.321400  1.348907  0.013623    1.122506       0.309351  \n",
      "1  0.052667    0.221041  1.348907  0.013623    1.073398       0.339566  \n",
      "2  0.050933    0.283383  1.189351  0.008109    1.062957       0.194090  \n",
      "3  0.050933    0.213766  1.189351  0.008109    1.043286       0.209004  \n",
      "4  0.059733    0.250699  1.439698  0.018243    1.102184       0.400941  \n",
      "5  0.059733    0.343032  1.439698  0.018243    1.159468       0.369806  \n"
     ]
    }
   ],
   "source": [
    "# Convert each row into a list of items, ignoring NaN values\n",
    "transactions = data.apply(lambda row: row.dropna().tolist(), axis=1).tolist()\n",
    "\n",
    "# Step 2: Apply TransactionEncoder and transform the transactions into a one-hot encoded DataFrame\n",
    "from mlxtend.preprocessing import TransactionEncoder\n",
    "from mlxtend.frequent_patterns import apriori, association_rules\n",
    "\n",
    "te = TransactionEncoder()\n",
    "te_ary = te.fit(transactions).transform(transactions)\n",
    "df = pd.DataFrame(te_ary, columns=te.columns_)\n",
    "\n",
    "# Step 3: Apply the Apriori algorithm\n",
    "# Use a minimum support of 5% (0.05)\n",
    "frequent_itemsets = apriori(df, min_support=0.05, use_colnames=True)\n",
    "\n",
    "# Step 4: Generate association rules\n",
    "rules = association_rules(frequent_itemsets, metric=\"lift\", min_threshold=1)\n",
    "\n",
    "# Step 5: Display the results\n",
    "print(\"Frequent Itemsets:\\n\", frequent_itemsets)\n",
    "print(\"\\nAssociation Rules:\\n\", rules)"
   ]
  },
  {
   "cell_type": "markdown",
   "metadata": {},
   "source": [
    "Interpretation of Results\n",
    "Frequent Itemsets:\n",
    "\n",
    "Top Products: The analysis reveals that products like burgers, cake, chicken, chocolate, cookies, and eggs have the highest support values. This indicates that these items are frequently purchased by customers.\n",
    "Mineral Water: Mineral water appears to be a staple item, as it has the highest support (23.83%) and is often purchased alongside various other products.\n",
    "Association Rules:\n",
    "\n",
    "Chocolate and Mineral Water: The association between chocolate and mineral water is strong, with a lift of 1.35, suggesting that customers who buy chocolate are likely to purchase mineral water as well.\n",
    "Eggs and Mineral Water: Eggs also have a significant association with mineral water, which could indicate that customers prefer to buy these items together.\n",
    "Spaghetti and Mineral Water: There is a similar trend with spaghetti, which indicates that meal-related items are often bought with mineral water.\n",
    "Customer Preferences:\n",
    "\n",
    "There is a clear indication that products with higher purchase frequency (like eggs, chocolate, and mineral water) drive customer choices and can be leveraged in marketing strategies.\n",
    "Business Plan Suggestions\n",
    "Product Placement Strategy:\n",
    "\n",
    "Cross-Merchandising: Position chocolate, eggs, and spaghetti near mineral water displays. Use attractive signage that suggests pairing these items, promoting convenience for customers who often buy them together.\n",
    "End-Cap Displays: Create themed displays at the ends of aisles featuring popular item combinations, like chocolate and mineral water, to draw attention and boost impulse buying.\n",
    "Promotions and Discounts:\n",
    "\n",
    "Bundle Offers: Develop promotional bundles that combine frequently purchased items (e.g., eggs, mineral water, and chocolate). Offering a discount for purchasing these items together can encourage larger basket sizes.\n",
    "Loyalty Program: Implement a loyalty program that rewards customers for purchasing frequently bought items. For instance, buying chocolate and mineral water together could earn points for discounts on future purchases.\n",
    "Product Assortment:\n",
    "\n",
    "Expand Product Range: Based on the data, consider expanding the variety of products in high-support categories like snacks (cookies, chocolate) and beverages (mineral water) to cater to diverse customer preferences.\n",
    "Healthier Alternatives: Introduce healthy options or organic alternatives for popular items like chocolate and snacks to cater to health-conscious consumers, aligning with current trends.\n",
    "Marketing Campaigns:\n",
    "\n",
    "Targeted Marketing: Utilize data insights to create targeted marketing campaigns that emphasize the benefits of pairing products (e.g., healthy meals with mineral water).\n",
    "Seasonal Promotions: Align promotions with seasonal trends, focusing on high-demand items (like chocolate during holidays) to maximize sales during peak times.\n",
    "In-Store Events:\n",
    "\n",
    "Sampling Events: Host tasting events or cooking demonstrations featuring recipes that incorporate popular items like eggs, spaghetti, and chocolate, promoting their usage together.\n",
    "Customer Engagement: Create engaging content on social media that highlights meal ideas or snack pairings, directing customers to in-store displays for those products.\n",
    "Feedback Mechanism:\n",
    "\n",
    "Customer Surveys: Implement regular customer feedback surveys to refine product offerings and discover new customer preferences or shopping habits, ensuring that inventory aligns with demand."
   ]
  },
  {
   "cell_type": "markdown",
   "metadata": {},
   "source": []
  }
 ],
 "metadata": {
  "kernelspec": {
   "display_name": "base",
   "language": "python",
   "name": "python3"
  },
  "language_info": {
   "codemirror_mode": {
    "name": "ipython",
    "version": 3
   },
   "file_extension": ".py",
   "mimetype": "text/x-python",
   "name": "python",
   "nbconvert_exporter": "python",
   "pygments_lexer": "ipython3",
   "version": "3.11.7"
  }
 },
 "nbformat": 4,
 "nbformat_minor": 2
}
